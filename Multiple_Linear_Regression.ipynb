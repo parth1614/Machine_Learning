{
  "nbformat": 4,
  "nbformat_minor": 0,
  "metadata": {
    "colab": {
      "name": "Multiple_Linear_Regression.ipynb",
      "provenance": [],
      "authorship_tag": "ABX9TyPPHQixHeGi1etP8ONmEwpY",
      "include_colab_link": true
    },
    "kernelspec": {
      "name": "python3",
      "display_name": "Python 3"
    },
    "language_info": {
      "name": "python"
    }
  },
  "cells": [
    {
      "cell_type": "markdown",
      "metadata": {
        "id": "view-in-github",
        "colab_type": "text"
      },
      "source": [
        "<a href=\"https://colab.research.google.com/github/parth1614/Machine_Learning/blob/main/Multiple_Linear_Regression.ipynb\" target=\"_parent\"><img src=\"https://colab.research.google.com/assets/colab-badge.svg\" alt=\"Open In Colab\"/></a>"
      ]
    },
    {
      "cell_type": "code",
      "metadata": {
        "id": "57YtqVZEd28c"
      },
      "source": [
        "import numpy as np\n",
        "import pandas as pd\n",
        "import matplotlib.pyplot as plt"
      ],
      "execution_count": 2,
      "outputs": []
    },
    {
      "cell_type": "code",
      "metadata": {
        "id": "WSbCH2f8eYb-"
      },
      "source": [
        "from google.colab import files"
      ],
      "execution_count": 3,
      "outputs": []
    },
    {
      "cell_type": "code",
      "metadata": {
        "colab": {
          "resources": {
            "http://localhost:8080/nbextensions/google.colab/files.js": {
              "data": "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",
              "ok": true,
              "headers": [
                [
                  "content-type",
                  "application/javascript"
                ]
              ],
              "status": 200,
              "status_text": ""
            }
          },
          "base_uri": "https://localhost:8080/",
          "height": 72
        },
        "id": "sP0QZtCVec--",
        "outputId": "71c85c51-abc0-49b4-a99a-f785c96c8b65"
      },
      "source": [
        "uploaded = files.upload()"
      ],
      "execution_count": 4,
      "outputs": [
        {
          "output_type": "display_data",
          "data": {
            "text/html": [
              "\n",
              "     <input type=\"file\" id=\"files-53cb53a3-d8f5-4f3a-b4e2-a85bc98699eb\" name=\"files[]\" multiple disabled\n",
              "        style=\"border:none\" />\n",
              "     <output id=\"result-53cb53a3-d8f5-4f3a-b4e2-a85bc98699eb\">\n",
              "      Upload widget is only available when the cell has been executed in the\n",
              "      current browser session. Please rerun this cell to enable.\n",
              "      </output>\n",
              "      <script src=\"/nbextensions/google.colab/files.js\"></script> "
            ],
            "text/plain": [
              "<IPython.core.display.HTML object>"
            ]
          },
          "metadata": {}
        },
        {
          "output_type": "stream",
          "name": "stdout",
          "text": [
            "Saving 50_AdAgency.csv to 50_AdAgency.csv\n"
          ]
        }
      ]
    },
    {
      "cell_type": "code",
      "metadata": {
        "id": "I9Pkx5OZekES"
      },
      "source": [
        "dataframe = pd.read_csv(\"50_AdAgency.csv\")"
      ],
      "execution_count": 6,
      "outputs": []
    },
    {
      "cell_type": "code",
      "metadata": {
        "colab": {
          "base_uri": "https://localhost:8080/",
          "height": 1000
        },
        "id": "iBN7EcAKeyGN",
        "outputId": "08ae0362-e164-4b49-888c-b52697ff95a8"
      },
      "source": [
        "dataframe"
      ],
      "execution_count": 7,
      "outputs": [
        {
          "output_type": "execute_result",
          "data": {
            "text/html": [
              "<div>\n",
              "<style scoped>\n",
              "    .dataframe tbody tr th:only-of-type {\n",
              "        vertical-align: middle;\n",
              "    }\n",
              "\n",
              "    .dataframe tbody tr th {\n",
              "        vertical-align: top;\n",
              "    }\n",
              "\n",
              "    .dataframe thead th {\n",
              "        text-align: right;\n",
              "    }\n",
              "</style>\n",
              "<table border=\"1\" class=\"dataframe\">\n",
              "  <thead>\n",
              "    <tr style=\"text-align: right;\">\n",
              "      <th></th>\n",
              "      <th>Print Media Expenses</th>\n",
              "      <th>Social Media Expenses</th>\n",
              "      <th>Outdoor Ad Expenses</th>\n",
              "      <th>City</th>\n",
              "      <th>Profit</th>\n",
              "    </tr>\n",
              "  </thead>\n",
              "  <tbody>\n",
              "    <tr>\n",
              "      <th>0</th>\n",
              "      <td>165349.20</td>\n",
              "      <td>136897.80</td>\n",
              "      <td>471784.10</td>\n",
              "      <td>Mumbai</td>\n",
              "      <td>192261.83</td>\n",
              "    </tr>\n",
              "    <tr>\n",
              "      <th>1</th>\n",
              "      <td>162597.70</td>\n",
              "      <td>151377.59</td>\n",
              "      <td>443898.53</td>\n",
              "      <td>Chandigarh</td>\n",
              "      <td>191792.06</td>\n",
              "    </tr>\n",
              "    <tr>\n",
              "      <th>2</th>\n",
              "      <td>153441.51</td>\n",
              "      <td>101145.55</td>\n",
              "      <td>407934.54</td>\n",
              "      <td>Delhi</td>\n",
              "      <td>191050.39</td>\n",
              "    </tr>\n",
              "    <tr>\n",
              "      <th>3</th>\n",
              "      <td>144372.41</td>\n",
              "      <td>118671.85</td>\n",
              "      <td>383199.62</td>\n",
              "      <td>Mumbai</td>\n",
              "      <td>182901.99</td>\n",
              "    </tr>\n",
              "    <tr>\n",
              "      <th>4</th>\n",
              "      <td>142107.34</td>\n",
              "      <td>91391.77</td>\n",
              "      <td>366168.42</td>\n",
              "      <td>Delhi</td>\n",
              "      <td>166187.94</td>\n",
              "    </tr>\n",
              "    <tr>\n",
              "      <th>5</th>\n",
              "      <td>131876.90</td>\n",
              "      <td>99814.71</td>\n",
              "      <td>362861.36</td>\n",
              "      <td>Mumbai</td>\n",
              "      <td>156991.12</td>\n",
              "    </tr>\n",
              "    <tr>\n",
              "      <th>6</th>\n",
              "      <td>134615.46</td>\n",
              "      <td>147198.87</td>\n",
              "      <td>127716.82</td>\n",
              "      <td>Chandigarh</td>\n",
              "      <td>156122.51</td>\n",
              "    </tr>\n",
              "    <tr>\n",
              "      <th>7</th>\n",
              "      <td>130298.13</td>\n",
              "      <td>145530.06</td>\n",
              "      <td>323876.68</td>\n",
              "      <td>Delhi</td>\n",
              "      <td>155752.60</td>\n",
              "    </tr>\n",
              "    <tr>\n",
              "      <th>8</th>\n",
              "      <td>120542.52</td>\n",
              "      <td>148718.95</td>\n",
              "      <td>311613.29</td>\n",
              "      <td>Mumbai</td>\n",
              "      <td>152211.77</td>\n",
              "    </tr>\n",
              "    <tr>\n",
              "      <th>9</th>\n",
              "      <td>123334.88</td>\n",
              "      <td>108679.17</td>\n",
              "      <td>304981.62</td>\n",
              "      <td>Chandigarh</td>\n",
              "      <td>149759.96</td>\n",
              "    </tr>\n",
              "    <tr>\n",
              "      <th>10</th>\n",
              "      <td>101913.08</td>\n",
              "      <td>110594.11</td>\n",
              "      <td>229160.95</td>\n",
              "      <td>Delhi</td>\n",
              "      <td>146121.95</td>\n",
              "    </tr>\n",
              "    <tr>\n",
              "      <th>11</th>\n",
              "      <td>100671.96</td>\n",
              "      <td>91790.61</td>\n",
              "      <td>249744.55</td>\n",
              "      <td>Chandigarh</td>\n",
              "      <td>144259.40</td>\n",
              "    </tr>\n",
              "    <tr>\n",
              "      <th>12</th>\n",
              "      <td>93863.75</td>\n",
              "      <td>127320.38</td>\n",
              "      <td>249839.44</td>\n",
              "      <td>Delhi</td>\n",
              "      <td>141585.52</td>\n",
              "    </tr>\n",
              "    <tr>\n",
              "      <th>13</th>\n",
              "      <td>91992.39</td>\n",
              "      <td>135495.07</td>\n",
              "      <td>252664.93</td>\n",
              "      <td>Chandigarh</td>\n",
              "      <td>134307.35</td>\n",
              "    </tr>\n",
              "    <tr>\n",
              "      <th>14</th>\n",
              "      <td>119943.24</td>\n",
              "      <td>156547.42</td>\n",
              "      <td>256512.92</td>\n",
              "      <td>Delhi</td>\n",
              "      <td>132602.65</td>\n",
              "    </tr>\n",
              "    <tr>\n",
              "      <th>15</th>\n",
              "      <td>114523.61</td>\n",
              "      <td>122616.84</td>\n",
              "      <td>261776.23</td>\n",
              "      <td>Mumbai</td>\n",
              "      <td>129917.04</td>\n",
              "    </tr>\n",
              "    <tr>\n",
              "      <th>16</th>\n",
              "      <td>78013.11</td>\n",
              "      <td>121597.55</td>\n",
              "      <td>264346.06</td>\n",
              "      <td>Chandigarh</td>\n",
              "      <td>126992.93</td>\n",
              "    </tr>\n",
              "    <tr>\n",
              "      <th>17</th>\n",
              "      <td>94657.16</td>\n",
              "      <td>145077.58</td>\n",
              "      <td>282574.31</td>\n",
              "      <td>Mumbai</td>\n",
              "      <td>125370.37</td>\n",
              "    </tr>\n",
              "    <tr>\n",
              "      <th>18</th>\n",
              "      <td>91749.16</td>\n",
              "      <td>114175.79</td>\n",
              "      <td>294919.57</td>\n",
              "      <td>Delhi</td>\n",
              "      <td>124266.90</td>\n",
              "    </tr>\n",
              "    <tr>\n",
              "      <th>19</th>\n",
              "      <td>86419.70</td>\n",
              "      <td>153514.11</td>\n",
              "      <td>0.00</td>\n",
              "      <td>Mumbai</td>\n",
              "      <td>122776.86</td>\n",
              "    </tr>\n",
              "    <tr>\n",
              "      <th>20</th>\n",
              "      <td>76253.86</td>\n",
              "      <td>113867.30</td>\n",
              "      <td>298664.47</td>\n",
              "      <td>Chandigarh</td>\n",
              "      <td>118474.03</td>\n",
              "    </tr>\n",
              "    <tr>\n",
              "      <th>21</th>\n",
              "      <td>78389.47</td>\n",
              "      <td>153773.43</td>\n",
              "      <td>299737.29</td>\n",
              "      <td>Mumbai</td>\n",
              "      <td>111313.02</td>\n",
              "    </tr>\n",
              "    <tr>\n",
              "      <th>22</th>\n",
              "      <td>73994.56</td>\n",
              "      <td>122782.75</td>\n",
              "      <td>303319.26</td>\n",
              "      <td>Delhi</td>\n",
              "      <td>110352.25</td>\n",
              "    </tr>\n",
              "    <tr>\n",
              "      <th>23</th>\n",
              "      <td>67532.53</td>\n",
              "      <td>105751.03</td>\n",
              "      <td>304768.73</td>\n",
              "      <td>Delhi</td>\n",
              "      <td>108733.99</td>\n",
              "    </tr>\n",
              "    <tr>\n",
              "      <th>24</th>\n",
              "      <td>77044.01</td>\n",
              "      <td>99281.34</td>\n",
              "      <td>140574.81</td>\n",
              "      <td>Mumbai</td>\n",
              "      <td>108552.04</td>\n",
              "    </tr>\n",
              "    <tr>\n",
              "      <th>25</th>\n",
              "      <td>64664.71</td>\n",
              "      <td>139553.16</td>\n",
              "      <td>137962.62</td>\n",
              "      <td>Chandigarh</td>\n",
              "      <td>107404.34</td>\n",
              "    </tr>\n",
              "    <tr>\n",
              "      <th>26</th>\n",
              "      <td>75328.87</td>\n",
              "      <td>144135.98</td>\n",
              "      <td>134050.07</td>\n",
              "      <td>Delhi</td>\n",
              "      <td>105733.54</td>\n",
              "    </tr>\n",
              "    <tr>\n",
              "      <th>27</th>\n",
              "      <td>72107.60</td>\n",
              "      <td>127864.55</td>\n",
              "      <td>353183.81</td>\n",
              "      <td>Mumbai</td>\n",
              "      <td>105008.31</td>\n",
              "    </tr>\n",
              "    <tr>\n",
              "      <th>28</th>\n",
              "      <td>66051.52</td>\n",
              "      <td>182645.56</td>\n",
              "      <td>118148.20</td>\n",
              "      <td>Delhi</td>\n",
              "      <td>103282.38</td>\n",
              "    </tr>\n",
              "    <tr>\n",
              "      <th>29</th>\n",
              "      <td>65605.48</td>\n",
              "      <td>153032.06</td>\n",
              "      <td>107138.38</td>\n",
              "      <td>Mumbai</td>\n",
              "      <td>101004.64</td>\n",
              "    </tr>\n",
              "    <tr>\n",
              "      <th>30</th>\n",
              "      <td>61994.48</td>\n",
              "      <td>115641.28</td>\n",
              "      <td>91131.24</td>\n",
              "      <td>Delhi</td>\n",
              "      <td>99937.59</td>\n",
              "    </tr>\n",
              "    <tr>\n",
              "      <th>31</th>\n",
              "      <td>61136.38</td>\n",
              "      <td>152701.92</td>\n",
              "      <td>88218.23</td>\n",
              "      <td>Mumbai</td>\n",
              "      <td>97483.56</td>\n",
              "    </tr>\n",
              "    <tr>\n",
              "      <th>32</th>\n",
              "      <td>63408.86</td>\n",
              "      <td>129219.61</td>\n",
              "      <td>46085.25</td>\n",
              "      <td>Chandigarh</td>\n",
              "      <td>97427.84</td>\n",
              "    </tr>\n",
              "    <tr>\n",
              "      <th>33</th>\n",
              "      <td>55493.95</td>\n",
              "      <td>103057.49</td>\n",
              "      <td>214634.81</td>\n",
              "      <td>Delhi</td>\n",
              "      <td>96778.92</td>\n",
              "    </tr>\n",
              "    <tr>\n",
              "      <th>34</th>\n",
              "      <td>46426.07</td>\n",
              "      <td>157693.92</td>\n",
              "      <td>210797.67</td>\n",
              "      <td>Chandigarh</td>\n",
              "      <td>96712.80</td>\n",
              "    </tr>\n",
              "    <tr>\n",
              "      <th>35</th>\n",
              "      <td>46014.02</td>\n",
              "      <td>85047.44</td>\n",
              "      <td>205517.64</td>\n",
              "      <td>Mumbai</td>\n",
              "      <td>96479.51</td>\n",
              "    </tr>\n",
              "    <tr>\n",
              "      <th>36</th>\n",
              "      <td>28663.76</td>\n",
              "      <td>127056.21</td>\n",
              "      <td>201126.82</td>\n",
              "      <td>Delhi</td>\n",
              "      <td>90708.19</td>\n",
              "    </tr>\n",
              "    <tr>\n",
              "      <th>37</th>\n",
              "      <td>44069.95</td>\n",
              "      <td>51283.14</td>\n",
              "      <td>197029.42</td>\n",
              "      <td>Chandigarh</td>\n",
              "      <td>89949.14</td>\n",
              "    </tr>\n",
              "    <tr>\n",
              "      <th>38</th>\n",
              "      <td>20229.59</td>\n",
              "      <td>65947.93</td>\n",
              "      <td>185265.10</td>\n",
              "      <td>Mumbai</td>\n",
              "      <td>81229.06</td>\n",
              "    </tr>\n",
              "    <tr>\n",
              "      <th>39</th>\n",
              "      <td>38558.51</td>\n",
              "      <td>82982.09</td>\n",
              "      <td>174999.30</td>\n",
              "      <td>Chandigarh</td>\n",
              "      <td>81005.76</td>\n",
              "    </tr>\n",
              "    <tr>\n",
              "      <th>40</th>\n",
              "      <td>28754.33</td>\n",
              "      <td>118546.05</td>\n",
              "      <td>172795.67</td>\n",
              "      <td>Chandigarh</td>\n",
              "      <td>78239.91</td>\n",
              "    </tr>\n",
              "    <tr>\n",
              "      <th>41</th>\n",
              "      <td>27892.92</td>\n",
              "      <td>84710.77</td>\n",
              "      <td>164470.71</td>\n",
              "      <td>Delhi</td>\n",
              "      <td>77798.83</td>\n",
              "    </tr>\n",
              "    <tr>\n",
              "      <th>42</th>\n",
              "      <td>23640.93</td>\n",
              "      <td>96189.63</td>\n",
              "      <td>148001.11</td>\n",
              "      <td>Chandigarh</td>\n",
              "      <td>71498.49</td>\n",
              "    </tr>\n",
              "    <tr>\n",
              "      <th>43</th>\n",
              "      <td>15505.73</td>\n",
              "      <td>127382.30</td>\n",
              "      <td>35534.17</td>\n",
              "      <td>Mumbai</td>\n",
              "      <td>69758.98</td>\n",
              "    </tr>\n",
              "    <tr>\n",
              "      <th>44</th>\n",
              "      <td>22177.74</td>\n",
              "      <td>154806.14</td>\n",
              "      <td>28334.72</td>\n",
              "      <td>Chandigarh</td>\n",
              "      <td>65200.33</td>\n",
              "    </tr>\n",
              "    <tr>\n",
              "      <th>45</th>\n",
              "      <td>1000.23</td>\n",
              "      <td>124153.04</td>\n",
              "      <td>1903.93</td>\n",
              "      <td>Mumbai</td>\n",
              "      <td>64926.08</td>\n",
              "    </tr>\n",
              "    <tr>\n",
              "      <th>46</th>\n",
              "      <td>1315.46</td>\n",
              "      <td>115816.21</td>\n",
              "      <td>297114.46</td>\n",
              "      <td>Delhi</td>\n",
              "      <td>49490.75</td>\n",
              "    </tr>\n",
              "    <tr>\n",
              "      <th>47</th>\n",
              "      <td>0.00</td>\n",
              "      <td>135426.92</td>\n",
              "      <td>0.00</td>\n",
              "      <td>Chandigarh</td>\n",
              "      <td>42559.73</td>\n",
              "    </tr>\n",
              "    <tr>\n",
              "      <th>48</th>\n",
              "      <td>542.05</td>\n",
              "      <td>51743.15</td>\n",
              "      <td>0.00</td>\n",
              "      <td>Mumbai</td>\n",
              "      <td>35673.41</td>\n",
              "    </tr>\n",
              "    <tr>\n",
              "      <th>49</th>\n",
              "      <td>0.00</td>\n",
              "      <td>116983.80</td>\n",
              "      <td>45173.06</td>\n",
              "      <td>Chandigarh</td>\n",
              "      <td>14681.40</td>\n",
              "    </tr>\n",
              "  </tbody>\n",
              "</table>\n",
              "</div>"
            ],
            "text/plain": [
              "    Print Media Expenses  Social Media Expenses  ...        City     Profit\n",
              "0              165349.20              136897.80  ...      Mumbai  192261.83\n",
              "1              162597.70              151377.59  ...  Chandigarh  191792.06\n",
              "2              153441.51              101145.55  ...       Delhi  191050.39\n",
              "3              144372.41              118671.85  ...      Mumbai  182901.99\n",
              "4              142107.34               91391.77  ...       Delhi  166187.94\n",
              "5              131876.90               99814.71  ...      Mumbai  156991.12\n",
              "6              134615.46              147198.87  ...  Chandigarh  156122.51\n",
              "7              130298.13              145530.06  ...       Delhi  155752.60\n",
              "8              120542.52              148718.95  ...      Mumbai  152211.77\n",
              "9              123334.88              108679.17  ...  Chandigarh  149759.96\n",
              "10             101913.08              110594.11  ...       Delhi  146121.95\n",
              "11             100671.96               91790.61  ...  Chandigarh  144259.40\n",
              "12              93863.75              127320.38  ...       Delhi  141585.52\n",
              "13              91992.39              135495.07  ...  Chandigarh  134307.35\n",
              "14             119943.24              156547.42  ...       Delhi  132602.65\n",
              "15             114523.61              122616.84  ...      Mumbai  129917.04\n",
              "16              78013.11              121597.55  ...  Chandigarh  126992.93\n",
              "17              94657.16              145077.58  ...      Mumbai  125370.37\n",
              "18              91749.16              114175.79  ...       Delhi  124266.90\n",
              "19              86419.70              153514.11  ...      Mumbai  122776.86\n",
              "20              76253.86              113867.30  ...  Chandigarh  118474.03\n",
              "21              78389.47              153773.43  ...      Mumbai  111313.02\n",
              "22              73994.56              122782.75  ...       Delhi  110352.25\n",
              "23              67532.53              105751.03  ...       Delhi  108733.99\n",
              "24              77044.01               99281.34  ...      Mumbai  108552.04\n",
              "25              64664.71              139553.16  ...  Chandigarh  107404.34\n",
              "26              75328.87              144135.98  ...       Delhi  105733.54\n",
              "27              72107.60              127864.55  ...      Mumbai  105008.31\n",
              "28              66051.52              182645.56  ...       Delhi  103282.38\n",
              "29              65605.48              153032.06  ...      Mumbai  101004.64\n",
              "30              61994.48              115641.28  ...       Delhi   99937.59\n",
              "31              61136.38              152701.92  ...      Mumbai   97483.56\n",
              "32              63408.86              129219.61  ...  Chandigarh   97427.84\n",
              "33              55493.95              103057.49  ...       Delhi   96778.92\n",
              "34              46426.07              157693.92  ...  Chandigarh   96712.80\n",
              "35              46014.02               85047.44  ...      Mumbai   96479.51\n",
              "36              28663.76              127056.21  ...       Delhi   90708.19\n",
              "37              44069.95               51283.14  ...  Chandigarh   89949.14\n",
              "38              20229.59               65947.93  ...      Mumbai   81229.06\n",
              "39              38558.51               82982.09  ...  Chandigarh   81005.76\n",
              "40              28754.33              118546.05  ...  Chandigarh   78239.91\n",
              "41              27892.92               84710.77  ...       Delhi   77798.83\n",
              "42              23640.93               96189.63  ...  Chandigarh   71498.49\n",
              "43              15505.73              127382.30  ...      Mumbai   69758.98\n",
              "44              22177.74              154806.14  ...  Chandigarh   65200.33\n",
              "45               1000.23              124153.04  ...      Mumbai   64926.08\n",
              "46               1315.46              115816.21  ...       Delhi   49490.75\n",
              "47                  0.00              135426.92  ...  Chandigarh   42559.73\n",
              "48                542.05               51743.15  ...      Mumbai   35673.41\n",
              "49                  0.00              116983.80  ...  Chandigarh   14681.40\n",
              "\n",
              "[50 rows x 5 columns]"
            ]
          },
          "metadata": {},
          "execution_count": 7
        }
      ]
    },
    {
      "cell_type": "code",
      "metadata": {
        "id": "KQamiYeqfLP7"
      },
      "source": [
        "X = dataframe.iloc[:, :-1].values\n",
        "y = dataframe.iloc[:, 4].values"
      ],
      "execution_count": 13,
      "outputs": []
    },
    {
      "cell_type": "code",
      "metadata": {
        "colab": {
          "base_uri": "https://localhost:8080/"
        },
        "id": "xKe4EQg6fbB9",
        "outputId": "0e1757da-dd28-4fbb-dac5-c514d6f7966b"
      },
      "source": [
        "X"
      ],
      "execution_count": 11,
      "outputs": [
        {
          "output_type": "execute_result",
          "data": {
            "text/plain": [
              "array([[165349.2, 136897.8, 471784.1, 'Mumbai'],\n",
              "       [162597.7, 151377.59, 443898.53, 'Chandigarh'],\n",
              "       [153441.51, 101145.55, 407934.54, 'Delhi'],\n",
              "       [144372.41, 118671.85, 383199.62, 'Mumbai'],\n",
              "       [142107.34, 91391.77, 366168.42, 'Delhi'],\n",
              "       [131876.9, 99814.71, 362861.36, 'Mumbai'],\n",
              "       [134615.46, 147198.87, 127716.82, 'Chandigarh'],\n",
              "       [130298.13, 145530.06, 323876.68, 'Delhi'],\n",
              "       [120542.52, 148718.95, 311613.29, 'Mumbai'],\n",
              "       [123334.88, 108679.17, 304981.62, 'Chandigarh'],\n",
              "       [101913.08, 110594.11, 229160.95, 'Delhi'],\n",
              "       [100671.96, 91790.61, 249744.55, 'Chandigarh'],\n",
              "       [93863.75, 127320.38, 249839.44, 'Delhi'],\n",
              "       [91992.39, 135495.07, 252664.93, 'Chandigarh'],\n",
              "       [119943.24, 156547.42, 256512.92, 'Delhi'],\n",
              "       [114523.61, 122616.84, 261776.23, 'Mumbai'],\n",
              "       [78013.11, 121597.55, 264346.06, 'Chandigarh'],\n",
              "       [94657.16, 145077.58, 282574.31, 'Mumbai'],\n",
              "       [91749.16, 114175.79, 294919.57, 'Delhi'],\n",
              "       [86419.7, 153514.11, 0.0, 'Mumbai'],\n",
              "       [76253.86, 113867.3, 298664.47, 'Chandigarh'],\n",
              "       [78389.47, 153773.43, 299737.29, 'Mumbai'],\n",
              "       [73994.56, 122782.75, 303319.26, 'Delhi'],\n",
              "       [67532.53, 105751.03, 304768.73, 'Delhi'],\n",
              "       [77044.01, 99281.34, 140574.81, 'Mumbai'],\n",
              "       [64664.71, 139553.16, 137962.62, 'Chandigarh'],\n",
              "       [75328.87, 144135.98, 134050.07, 'Delhi'],\n",
              "       [72107.6, 127864.55, 353183.81, 'Mumbai'],\n",
              "       [66051.52, 182645.56, 118148.2, 'Delhi'],\n",
              "       [65605.48, 153032.06, 107138.38, 'Mumbai'],\n",
              "       [61994.48, 115641.28, 91131.24, 'Delhi'],\n",
              "       [61136.38, 152701.92, 88218.23, 'Mumbai'],\n",
              "       [63408.86, 129219.61, 46085.25, 'Chandigarh'],\n",
              "       [55493.95, 103057.49, 214634.81, 'Delhi'],\n",
              "       [46426.07, 157693.92, 210797.67, 'Chandigarh'],\n",
              "       [46014.02, 85047.44, 205517.64, 'Mumbai'],\n",
              "       [28663.76, 127056.21, 201126.82, 'Delhi'],\n",
              "       [44069.95, 51283.14, 197029.42, 'Chandigarh'],\n",
              "       [20229.59, 65947.93, 185265.1, 'Mumbai'],\n",
              "       [38558.51, 82982.09, 174999.3, 'Chandigarh'],\n",
              "       [28754.33, 118546.05, 172795.67, 'Chandigarh'],\n",
              "       [27892.92, 84710.77, 164470.71, 'Delhi'],\n",
              "       [23640.93, 96189.63, 148001.11, 'Chandigarh'],\n",
              "       [15505.73, 127382.3, 35534.17, 'Mumbai'],\n",
              "       [22177.74, 154806.14, 28334.72, 'Chandigarh'],\n",
              "       [1000.23, 124153.04, 1903.93, 'Mumbai'],\n",
              "       [1315.46, 115816.21, 297114.46, 'Delhi'],\n",
              "       [0.0, 135426.92, 0.0, 'Chandigarh'],\n",
              "       [542.05, 51743.15, 0.0, 'Mumbai'],\n",
              "       [0.0, 116983.8, 45173.06, 'Chandigarh']], dtype=object)"
            ]
          },
          "metadata": {},
          "execution_count": 11
        }
      ]
    },
    {
      "cell_type": "code",
      "metadata": {
        "colab": {
          "base_uri": "https://localhost:8080/"
        },
        "id": "lZkGqYynfwY5",
        "outputId": "4d78c4f8-5085-480e-e7c9-7eb50e80d761"
      },
      "source": [
        "y"
      ],
      "execution_count": 14,
      "outputs": [
        {
          "output_type": "execute_result",
          "data": {
            "text/plain": [
              "array([192261.83, 191792.06, 191050.39, 182901.99, 166187.94, 156991.12,\n",
              "       156122.51, 155752.6 , 152211.77, 149759.96, 146121.95, 144259.4 ,\n",
              "       141585.52, 134307.35, 132602.65, 129917.04, 126992.93, 125370.37,\n",
              "       124266.9 , 122776.86, 118474.03, 111313.02, 110352.25, 108733.99,\n",
              "       108552.04, 107404.34, 105733.54, 105008.31, 103282.38, 101004.64,\n",
              "        99937.59,  97483.56,  97427.84,  96778.92,  96712.8 ,  96479.51,\n",
              "        90708.19,  89949.14,  81229.06,  81005.76,  78239.91,  77798.83,\n",
              "        71498.49,  69758.98,  65200.33,  64926.08,  49490.75,  42559.73,\n",
              "        35673.41,  14681.4 ])"
            ]
          },
          "metadata": {},
          "execution_count": 14
        }
      ]
    },
    {
      "cell_type": "code",
      "metadata": {
        "id": "B3M5DKQqfyUE"
      },
      "source": [
        "from sklearn.preprocessing import LabelEncoder"
      ],
      "execution_count": 15,
      "outputs": []
    },
    {
      "cell_type": "code",
      "metadata": {
        "id": "hUqEDsQIgK6Z"
      },
      "source": [
        "labelencoder = LabelEncoder()\n",
        "X[:,3] = labelencoder.fit_transform(X[:,3]) ##preprocessing because the values in city column are nominal values, i.e. they can't be meaningfully ranked"
      ],
      "execution_count": 17,
      "outputs": []
    },
    {
      "cell_type": "code",
      "metadata": {
        "colab": {
          "base_uri": "https://localhost:8080/"
        },
        "id": "_upGtI1KhAnA",
        "outputId": "27c09955-8a96-4c6b-cef0-cca5ba06d330"
      },
      "source": [
        "X"
      ],
      "execution_count": 18,
      "outputs": [
        {
          "output_type": "execute_result",
          "data": {
            "text/plain": [
              "array([[165349.2, 136897.8, 471784.1, 2],\n",
              "       [162597.7, 151377.59, 443898.53, 0],\n",
              "       [153441.51, 101145.55, 407934.54, 1],\n",
              "       [144372.41, 118671.85, 383199.62, 2],\n",
              "       [142107.34, 91391.77, 366168.42, 1],\n",
              "       [131876.9, 99814.71, 362861.36, 2],\n",
              "       [134615.46, 147198.87, 127716.82, 0],\n",
              "       [130298.13, 145530.06, 323876.68, 1],\n",
              "       [120542.52, 148718.95, 311613.29, 2],\n",
              "       [123334.88, 108679.17, 304981.62, 0],\n",
              "       [101913.08, 110594.11, 229160.95, 1],\n",
              "       [100671.96, 91790.61, 249744.55, 0],\n",
              "       [93863.75, 127320.38, 249839.44, 1],\n",
              "       [91992.39, 135495.07, 252664.93, 0],\n",
              "       [119943.24, 156547.42, 256512.92, 1],\n",
              "       [114523.61, 122616.84, 261776.23, 2],\n",
              "       [78013.11, 121597.55, 264346.06, 0],\n",
              "       [94657.16, 145077.58, 282574.31, 2],\n",
              "       [91749.16, 114175.79, 294919.57, 1],\n",
              "       [86419.7, 153514.11, 0.0, 2],\n",
              "       [76253.86, 113867.3, 298664.47, 0],\n",
              "       [78389.47, 153773.43, 299737.29, 2],\n",
              "       [73994.56, 122782.75, 303319.26, 1],\n",
              "       [67532.53, 105751.03, 304768.73, 1],\n",
              "       [77044.01, 99281.34, 140574.81, 2],\n",
              "       [64664.71, 139553.16, 137962.62, 0],\n",
              "       [75328.87, 144135.98, 134050.07, 1],\n",
              "       [72107.6, 127864.55, 353183.81, 2],\n",
              "       [66051.52, 182645.56, 118148.2, 1],\n",
              "       [65605.48, 153032.06, 107138.38, 2],\n",
              "       [61994.48, 115641.28, 91131.24, 1],\n",
              "       [61136.38, 152701.92, 88218.23, 2],\n",
              "       [63408.86, 129219.61, 46085.25, 0],\n",
              "       [55493.95, 103057.49, 214634.81, 1],\n",
              "       [46426.07, 157693.92, 210797.67, 0],\n",
              "       [46014.02, 85047.44, 205517.64, 2],\n",
              "       [28663.76, 127056.21, 201126.82, 1],\n",
              "       [44069.95, 51283.14, 197029.42, 0],\n",
              "       [20229.59, 65947.93, 185265.1, 2],\n",
              "       [38558.51, 82982.09, 174999.3, 0],\n",
              "       [28754.33, 118546.05, 172795.67, 0],\n",
              "       [27892.92, 84710.77, 164470.71, 1],\n",
              "       [23640.93, 96189.63, 148001.11, 0],\n",
              "       [15505.73, 127382.3, 35534.17, 2],\n",
              "       [22177.74, 154806.14, 28334.72, 0],\n",
              "       [1000.23, 124153.04, 1903.93, 2],\n",
              "       [1315.46, 115816.21, 297114.46, 1],\n",
              "       [0.0, 135426.92, 0.0, 0],\n",
              "       [542.05, 51743.15, 0.0, 2],\n",
              "       [0.0, 116983.8, 45173.06, 0]], dtype=object)"
            ]
          },
          "metadata": {},
          "execution_count": 18
        }
      ]
    },
    {
      "cell_type": "code",
      "metadata": {
        "id": "rvLgjOK0hJ0h"
      },
      "source": [
        "from sklearn.preprocessing import OneHotEncoder "
      ],
      "execution_count": 19,
      "outputs": []
    },
    {
      "cell_type": "code",
      "metadata": {
        "id": "kciHDO6ShgxZ"
      },
      "source": [
        "## to convert the labeled values of cities into dummy variables\n",
        "from sklearn.compose import ColumnTransformer\n",
        "columnTransformer = ColumnTransformer([('encoder', OneHotEncoder(), [3])], remainder='passthrough') ## column number 3 has the dummy variables\n",
        "X=np.array(columnTransformer.fit_transform(X),dtype=np.str)\n"
      ],
      "execution_count": 25,
      "outputs": []
    },
    {
      "cell_type": "code",
      "metadata": {
        "colab": {
          "base_uri": "https://localhost:8080/"
        },
        "id": "XhAIuTCejQdq",
        "outputId": "c14be308-30be-4cc6-befb-c1d7aa919a5a"
      },
      "source": [
        "X"
      ],
      "execution_count": 26,
      "outputs": [
        {
          "output_type": "execute_result",
          "data": {
            "text/plain": [
              "array([['0.0', '0.0', '1.0', '165349.2', '136897.8', '471784.1'],\n",
              "       ['1.0', '0.0', '0.0', '162597.7', '151377.59', '443898.53'],\n",
              "       ['0.0', '1.0', '0.0', '153441.51', '101145.55', '407934.54'],\n",
              "       ['0.0', '0.0', '1.0', '144372.41', '118671.85', '383199.62'],\n",
              "       ['0.0', '1.0', '0.0', '142107.34', '91391.77', '366168.42'],\n",
              "       ['0.0', '0.0', '1.0', '131876.9', '99814.71', '362861.36'],\n",
              "       ['1.0', '0.0', '0.0', '134615.46', '147198.87', '127716.82'],\n",
              "       ['0.0', '1.0', '0.0', '130298.13', '145530.06', '323876.68'],\n",
              "       ['0.0', '0.0', '1.0', '120542.52', '148718.95', '311613.29'],\n",
              "       ['1.0', '0.0', '0.0', '123334.88', '108679.17', '304981.62'],\n",
              "       ['0.0', '1.0', '0.0', '101913.08', '110594.11', '229160.95'],\n",
              "       ['1.0', '0.0', '0.0', '100671.96', '91790.61', '249744.55'],\n",
              "       ['0.0', '1.0', '0.0', '93863.75', '127320.38', '249839.44'],\n",
              "       ['1.0', '0.0', '0.0', '91992.39', '135495.07', '252664.93'],\n",
              "       ['0.0', '1.0', '0.0', '119943.24', '156547.42', '256512.92'],\n",
              "       ['0.0', '0.0', '1.0', '114523.61', '122616.84', '261776.23'],\n",
              "       ['1.0', '0.0', '0.0', '78013.11', '121597.55', '264346.06'],\n",
              "       ['0.0', '0.0', '1.0', '94657.16', '145077.58', '282574.31'],\n",
              "       ['0.0', '1.0', '0.0', '91749.16', '114175.79', '294919.57'],\n",
              "       ['0.0', '0.0', '1.0', '86419.7', '153514.11', '0.0'],\n",
              "       ['1.0', '0.0', '0.0', '76253.86', '113867.3', '298664.47'],\n",
              "       ['0.0', '0.0', '1.0', '78389.47', '153773.43', '299737.29'],\n",
              "       ['0.0', '1.0', '0.0', '73994.56', '122782.75', '303319.26'],\n",
              "       ['0.0', '1.0', '0.0', '67532.53', '105751.03', '304768.73'],\n",
              "       ['0.0', '0.0', '1.0', '77044.01', '99281.34', '140574.81'],\n",
              "       ['1.0', '0.0', '0.0', '64664.71', '139553.16', '137962.62'],\n",
              "       ['0.0', '1.0', '0.0', '75328.87', '144135.98', '134050.07'],\n",
              "       ['0.0', '0.0', '1.0', '72107.6', '127864.55', '353183.81'],\n",
              "       ['0.0', '1.0', '0.0', '66051.52', '182645.56', '118148.2'],\n",
              "       ['0.0', '0.0', '1.0', '65605.48', '153032.06', '107138.38'],\n",
              "       ['0.0', '1.0', '0.0', '61994.48', '115641.28', '91131.24'],\n",
              "       ['0.0', '0.0', '1.0', '61136.38', '152701.92', '88218.23'],\n",
              "       ['1.0', '0.0', '0.0', '63408.86', '129219.61', '46085.25'],\n",
              "       ['0.0', '1.0', '0.0', '55493.95', '103057.49', '214634.81'],\n",
              "       ['1.0', '0.0', '0.0', '46426.07', '157693.92', '210797.67'],\n",
              "       ['0.0', '0.0', '1.0', '46014.02', '85047.44', '205517.64'],\n",
              "       ['0.0', '1.0', '0.0', '28663.76', '127056.21', '201126.82'],\n",
              "       ['1.0', '0.0', '0.0', '44069.95', '51283.14', '197029.42'],\n",
              "       ['0.0', '0.0', '1.0', '20229.59', '65947.93', '185265.1'],\n",
              "       ['1.0', '0.0', '0.0', '38558.51', '82982.09', '174999.3'],\n",
              "       ['1.0', '0.0', '0.0', '28754.33', '118546.05', '172795.67'],\n",
              "       ['0.0', '1.0', '0.0', '27892.92', '84710.77', '164470.71'],\n",
              "       ['1.0', '0.0', '0.0', '23640.93', '96189.63', '148001.11'],\n",
              "       ['0.0', '0.0', '1.0', '15505.73', '127382.3', '35534.17'],\n",
              "       ['1.0', '0.0', '0.0', '22177.74', '154806.14', '28334.72'],\n",
              "       ['0.0', '0.0', '1.0', '1000.23', '124153.04', '1903.93'],\n",
              "       ['0.0', '1.0', '0.0', '1315.46', '115816.21', '297114.46'],\n",
              "       ['1.0', '0.0', '0.0', '0.0', '135426.92', '0.0'],\n",
              "       ['0.0', '0.0', '1.0', '542.05', '51743.15', '0.0'],\n",
              "       ['1.0', '0.0', '0.0', '0.0', '116983.8', '45173.06']], dtype='<U9')"
            ]
          },
          "metadata": {},
          "execution_count": 26
        }
      ]
    },
    {
      "cell_type": "code",
      "metadata": {
        "id": "DpQZp0uBjjCn"
      },
      "source": [
        "# We can always work with (n-1) dummy variables, so we'll code the dummy variable trap\n",
        "X = X[:,1:]"
      ],
      "execution_count": 27,
      "outputs": []
    },
    {
      "cell_type": "code",
      "metadata": {
        "colab": {
          "base_uri": "https://localhost:8080/"
        },
        "id": "2a_CfL7nnwKG",
        "outputId": "a885bb06-7f97-4373-ab7e-23dd5dd82ac0"
      },
      "source": [
        "X"
      ],
      "execution_count": 28,
      "outputs": [
        {
          "output_type": "execute_result",
          "data": {
            "text/plain": [
              "array([['0.0', '1.0', '165349.2', '136897.8', '471784.1'],\n",
              "       ['0.0', '0.0', '162597.7', '151377.59', '443898.53'],\n",
              "       ['1.0', '0.0', '153441.51', '101145.55', '407934.54'],\n",
              "       ['0.0', '1.0', '144372.41', '118671.85', '383199.62'],\n",
              "       ['1.0', '0.0', '142107.34', '91391.77', '366168.42'],\n",
              "       ['0.0', '1.0', '131876.9', '99814.71', '362861.36'],\n",
              "       ['0.0', '0.0', '134615.46', '147198.87', '127716.82'],\n",
              "       ['1.0', '0.0', '130298.13', '145530.06', '323876.68'],\n",
              "       ['0.0', '1.0', '120542.52', '148718.95', '311613.29'],\n",
              "       ['0.0', '0.0', '123334.88', '108679.17', '304981.62'],\n",
              "       ['1.0', '0.0', '101913.08', '110594.11', '229160.95'],\n",
              "       ['0.0', '0.0', '100671.96', '91790.61', '249744.55'],\n",
              "       ['1.0', '0.0', '93863.75', '127320.38', '249839.44'],\n",
              "       ['0.0', '0.0', '91992.39', '135495.07', '252664.93'],\n",
              "       ['1.0', '0.0', '119943.24', '156547.42', '256512.92'],\n",
              "       ['0.0', '1.0', '114523.61', '122616.84', '261776.23'],\n",
              "       ['0.0', '0.0', '78013.11', '121597.55', '264346.06'],\n",
              "       ['0.0', '1.0', '94657.16', '145077.58', '282574.31'],\n",
              "       ['1.0', '0.0', '91749.16', '114175.79', '294919.57'],\n",
              "       ['0.0', '1.0', '86419.7', '153514.11', '0.0'],\n",
              "       ['0.0', '0.0', '76253.86', '113867.3', '298664.47'],\n",
              "       ['0.0', '1.0', '78389.47', '153773.43', '299737.29'],\n",
              "       ['1.0', '0.0', '73994.56', '122782.75', '303319.26'],\n",
              "       ['1.0', '0.0', '67532.53', '105751.03', '304768.73'],\n",
              "       ['0.0', '1.0', '77044.01', '99281.34', '140574.81'],\n",
              "       ['0.0', '0.0', '64664.71', '139553.16', '137962.62'],\n",
              "       ['1.0', '0.0', '75328.87', '144135.98', '134050.07'],\n",
              "       ['0.0', '1.0', '72107.6', '127864.55', '353183.81'],\n",
              "       ['1.0', '0.0', '66051.52', '182645.56', '118148.2'],\n",
              "       ['0.0', '1.0', '65605.48', '153032.06', '107138.38'],\n",
              "       ['1.0', '0.0', '61994.48', '115641.28', '91131.24'],\n",
              "       ['0.0', '1.0', '61136.38', '152701.92', '88218.23'],\n",
              "       ['0.0', '0.0', '63408.86', '129219.61', '46085.25'],\n",
              "       ['1.0', '0.0', '55493.95', '103057.49', '214634.81'],\n",
              "       ['0.0', '0.0', '46426.07', '157693.92', '210797.67'],\n",
              "       ['0.0', '1.0', '46014.02', '85047.44', '205517.64'],\n",
              "       ['1.0', '0.0', '28663.76', '127056.21', '201126.82'],\n",
              "       ['0.0', '0.0', '44069.95', '51283.14', '197029.42'],\n",
              "       ['0.0', '1.0', '20229.59', '65947.93', '185265.1'],\n",
              "       ['0.0', '0.0', '38558.51', '82982.09', '174999.3'],\n",
              "       ['0.0', '0.0', '28754.33', '118546.05', '172795.67'],\n",
              "       ['1.0', '0.0', '27892.92', '84710.77', '164470.71'],\n",
              "       ['0.0', '0.0', '23640.93', '96189.63', '148001.11'],\n",
              "       ['0.0', '1.0', '15505.73', '127382.3', '35534.17'],\n",
              "       ['0.0', '0.0', '22177.74', '154806.14', '28334.72'],\n",
              "       ['0.0', '1.0', '1000.23', '124153.04', '1903.93'],\n",
              "       ['1.0', '0.0', '1315.46', '115816.21', '297114.46'],\n",
              "       ['0.0', '0.0', '0.0', '135426.92', '0.0'],\n",
              "       ['0.0', '1.0', '542.05', '51743.15', '0.0'],\n",
              "       ['0.0', '0.0', '0.0', '116983.8', '45173.06']], dtype='<U9')"
            ]
          },
          "metadata": {},
          "execution_count": 28
        }
      ]
    },
    {
      "cell_type": "code",
      "metadata": {
        "id": "uDtqc2r9nyKw"
      },
      "source": [
        "# splitting the datset into training and testing dataset\n",
        "from sklearn.model_selection import train_test_split\n"
      ],
      "execution_count": 29,
      "outputs": []
    },
    {
      "cell_type": "code",
      "metadata": {
        "id": "d9hsa1e4oEEy"
      },
      "source": [
        "X_train,X_test,y_train,y_test = train_test_split(X,y,test_size=0.2,random_state=0)"
      ],
      "execution_count": 30,
      "outputs": []
    },
    {
      "cell_type": "code",
      "metadata": {
        "colab": {
          "base_uri": "https://localhost:8080/"
        },
        "id": "a_JyAz7Vopa-",
        "outputId": "476f6273-3109-43da-a766-d17f18345069"
      },
      "source": [
        "from sklearn.linear_model import LinearRegression\n",
        "regressor=LinearRegression()\n",
        "regressor.fit(X_train,y_train)\n"
      ],
      "execution_count": 34,
      "outputs": [
        {
          "output_type": "stream",
          "name": "stderr",
          "text": [
            "/usr/local/lib/python3.7/dist-packages/sklearn/utils/validation.py:755: FutureWarning: Beginning in version 0.22, arrays of bytes/strings will be converted to decimal numbers if dtype='numeric'. It is recommended that you convert the array to a float dtype before using it in scikit-learn, for example by using your_array = your_array.astype(np.float64).\n",
            "  estimator=estimator)\n"
          ]
        },
        {
          "output_type": "execute_result",
          "data": {
            "text/plain": [
              "LinearRegression(copy_X=True, fit_intercept=True, n_jobs=None, normalize=False)"
            ]
          },
          "metadata": {},
          "execution_count": 34
        }
      ]
    },
    {
      "cell_type": "code",
      "metadata": {
        "id": "HmzkcrBjqfsz"
      },
      "source": [
        "X_test = np.asarray(X_test, dtype='float64')"
      ],
      "execution_count": 41,
      "outputs": []
    },
    {
      "cell_type": "code",
      "metadata": {
        "colab": {
          "base_uri": "https://localhost:8080/"
        },
        "id": "CMYrUaqzrAEj",
        "outputId": "d01728d7-91f6-43e0-8be1-df4ae0b18ef5"
      },
      "source": [
        "X_test"
      ],
      "execution_count": 42,
      "outputs": [
        {
          "output_type": "execute_result",
          "data": {
            "text/plain": [
              "array([[1.0000000e+00, 0.0000000e+00, 6.6051520e+04, 1.8264556e+05,\n",
              "        1.1814820e+05],\n",
              "       [0.0000000e+00, 0.0000000e+00, 1.0067196e+05, 9.1790610e+04,\n",
              "        2.4974455e+05],\n",
              "       [1.0000000e+00, 0.0000000e+00, 1.0191308e+05, 1.1059411e+05,\n",
              "        2.2916095e+05],\n",
              "       [1.0000000e+00, 0.0000000e+00, 2.7892920e+04, 8.4710770e+04,\n",
              "        1.6447071e+05],\n",
              "       [1.0000000e+00, 0.0000000e+00, 1.5344151e+05, 1.0114555e+05,\n",
              "        4.0793454e+05],\n",
              "       [0.0000000e+00, 1.0000000e+00, 7.2107600e+04, 1.2786455e+05,\n",
              "        3.5318381e+05],\n",
              "       [0.0000000e+00, 1.0000000e+00, 2.0229590e+04, 6.5947930e+04,\n",
              "        1.8526510e+05],\n",
              "       [0.0000000e+00, 1.0000000e+00, 6.1136380e+04, 1.5270192e+05,\n",
              "        8.8218230e+04],\n",
              "       [1.0000000e+00, 0.0000000e+00, 7.3994560e+04, 1.2278275e+05,\n",
              "        3.0331926e+05],\n",
              "       [1.0000000e+00, 0.0000000e+00, 1.4210734e+05, 9.1391770e+04,\n",
              "        3.6616842e+05]])"
            ]
          },
          "metadata": {},
          "execution_count": 42
        }
      ]
    },
    {
      "cell_type": "code",
      "metadata": {
        "id": "hrfDHHAIrBHN"
      },
      "source": [
        "y_predict = regressor.predict(X_test)"
      ],
      "execution_count": 43,
      "outputs": []
    },
    {
      "cell_type": "code",
      "metadata": {
        "colab": {
          "base_uri": "https://localhost:8080/"
        },
        "id": "hxNGJVntrH0s",
        "outputId": "31a8f6f4-1b31-4eb4-9a0b-24d3e8300a31"
      },
      "source": [
        "y_predict"
      ],
      "execution_count": 44,
      "outputs": [
        {
          "output_type": "execute_result",
          "data": {
            "text/plain": [
              "array([103015.20159796, 132582.27760816, 132447.73845175,  71976.09851259,\n",
              "       178537.48221054, 116161.24230163,  67851.69209676,  98791.73374688,\n",
              "       113969.43533012, 167921.0656955 ])"
            ]
          },
          "metadata": {},
          "execution_count": 44
        }
      ]
    },
    {
      "cell_type": "code",
      "metadata": {
        "colab": {
          "base_uri": "https://localhost:8080/"
        },
        "id": "K1Ui4pzQrM-j",
        "outputId": "e149bd5e-effc-46f2-fe64-0ef57ba92755"
      },
      "source": [
        "y_test"
      ],
      "execution_count": 45,
      "outputs": [
        {
          "output_type": "execute_result",
          "data": {
            "text/plain": [
              "array([103282.38, 144259.4 , 146121.95,  77798.83, 191050.39, 105008.31,\n",
              "        81229.06,  97483.56, 110352.25, 166187.94])"
            ]
          },
          "metadata": {},
          "execution_count": 45
        }
      ]
    },
    {
      "cell_type": "code",
      "metadata": {
        "id": "cuwKqH4jrP27"
      },
      "source": [
        "from sklearn import metrics"
      ],
      "execution_count": 46,
      "outputs": []
    },
    {
      "cell_type": "code",
      "metadata": {
        "colab": {
          "base_uri": "https://localhost:8080/"
        },
        "id": "1QJjFLXdsBab",
        "outputId": "b77c5afc-8aea-4e7c-d078-69c6962c7a48"
      },
      "source": [
        "print(metrics.mean_absolute_error(y_test,y_predict))"
      ],
      "execution_count": 47,
      "outputs": [
        {
          "output_type": "stream",
          "name": "stdout",
          "text": [
            "7514.293659636814\n"
          ]
        }
      ]
    },
    {
      "cell_type": "code",
      "metadata": {
        "colab": {
          "base_uri": "https://localhost:8080/"
        },
        "id": "IaqN3bm5sJxM",
        "outputId": "9dd17fc1-79e4-4afe-942e-3d94dae853e6"
      },
      "source": [
        "print(metrics.mean_squared_error(y_test,y_predict))"
      ],
      "execution_count": 49,
      "outputs": [
        {
          "output_type": "stream",
          "name": "stdout",
          "text": [
            "83502864.03250548\n"
          ]
        }
      ]
    },
    {
      "cell_type": "code",
      "metadata": {
        "colab": {
          "base_uri": "https://localhost:8080/"
        },
        "id": "KKQzNEBwsl1x",
        "outputId": "4087d5c0-adb5-40d3-f48b-c3bfea26ff7f"
      },
      "source": [
        "print(np.sqrt(metrics.mean_squared_error(y_test,y_predict)))"
      ],
      "execution_count": 50,
      "outputs": [
        {
          "output_type": "stream",
          "name": "stdout",
          "text": [
            "9137.990152791011\n"
          ]
        }
      ]
    },
    {
      "cell_type": "code",
      "metadata": {
        "id": "A3MG1z3QtEgw"
      },
      "source": [
        ""
      ],
      "execution_count": null,
      "outputs": []
    }
  ]
}
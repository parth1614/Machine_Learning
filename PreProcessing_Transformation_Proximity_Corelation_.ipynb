{
  "nbformat": 4,
  "nbformat_minor": 0,
  "metadata": {
    "colab": {
      "name": "PreProcessing_Transformation_Proximity_Corelation .ipynb",
      "provenance": [],
      "include_colab_link": true
    },
    "kernelspec": {
      "name": "python3",
      "display_name": "Python 3"
    },
    "language_info": {
      "name": "python"
    }
  },
  "cells": [
    {
      "cell_type": "markdown",
      "metadata": {
        "id": "view-in-github",
        "colab_type": "text"
      },
      "source": [
        "<a href=\"https://colab.research.google.com/github/parth1614/Machine_Learning/blob/main/PreProcessing_Transformation_Proximity_Corelation_.ipynb\" target=\"_parent\"><img src=\"https://colab.research.google.com/assets/colab-badge.svg\" alt=\"Open In Colab\"/></a>"
      ]
    },
    {
      "cell_type": "code",
      "metadata": {
        "colab": {
          "base_uri": "https://localhost:8080/"
        },
        "id": "DFQwzTmOXP6Q",
        "outputId": "4fd6041f-0ef7-45c6-e952-1c21b8c31033"
      },
      "source": [
        "import pandas as pd\n",
        "import os \n",
        "from google.colab import files\n",
        "#uploaded = files.upload() ##To upload files from your system\n",
        "# dataframe = pd.read_csv(\"/content/AWCustomers.csv\")\n",
        "dataframe = pd.read_csv(\"AWCustomers.csv\")\n",
        "dataframe.info()\n",
        "# type(dataframe)"
      ],
      "execution_count": 15,
      "outputs": [
        {
          "output_type": "stream",
          "name": "stdout",
          "text": [
            "<class 'pandas.core.frame.DataFrame'>\n",
            "RangeIndex: 18361 entries, 0 to 18360\n",
            "Data columns (total 24 columns):\n",
            " #   Column                Non-Null Count  Dtype \n",
            "---  ------                --------------  ----- \n",
            " 0   CustomerID            18361 non-null  int64 \n",
            " 1   Title                 101 non-null    object\n",
            " 2   FirstName             18361 non-null  object\n",
            " 3   MiddleName            10572 non-null  object\n",
            " 4   LastName              18361 non-null  object\n",
            " 5   Suffix                3 non-null      object\n",
            " 6   AddressLine1          18361 non-null  object\n",
            " 7   AddressLine2          311 non-null    object\n",
            " 8   City                  18361 non-null  object\n",
            " 9   StateProvinceName     18361 non-null  object\n",
            " 10  CountryRegionName     18361 non-null  object\n",
            " 11  PostalCode            18361 non-null  object\n",
            " 12  PhoneNumber           18361 non-null  object\n",
            " 13  BirthDate             18361 non-null  object\n",
            " 14  Education             18361 non-null  object\n",
            " 15  Occupation            18361 non-null  object\n",
            " 16  Gender                18361 non-null  object\n",
            " 17  MaritalStatus         18361 non-null  object\n",
            " 18  HomeOwnerFlag         18361 non-null  int64 \n",
            " 19  NumberCarsOwned       18361 non-null  int64 \n",
            " 20  NumberChildrenAtHome  18361 non-null  int64 \n",
            " 21  TotalChildren         18361 non-null  int64 \n",
            " 22  YearlyIncome          18361 non-null  int64 \n",
            " 23  LastUpdated           18361 non-null  object\n",
            "dtypes: int64(6), object(18)\n",
            "memory usage: 3.4+ MB\n"
          ]
        }
      ]
    },
    {
      "cell_type": "code",
      "metadata": {
        "colab": {
          "base_uri": "https://localhost:8080/"
        },
        "id": "HcRBJYbiYerl",
        "outputId": "2ddc7a17-8a09-4f76-b803-f8962b9536f8"
      },
      "source": [
        "dataframe['BirthDate'] = pd.to_datetime(dataframe['BirthDate'])\n",
        "\n",
        "import datetime \n",
        "CURRENT_TIME = datetime.datetime.now()\n",
        "def get_age(birth_date, today = CURRENT_TIME):\n",
        "  y = today - birth_date\n",
        "  return y.days//365\n",
        "\n",
        "dataframe['Age'] = dataframe['BirthDate'].apply(lambda x: get_age(x))\n",
        "dataframe.drop(['BirthDate'], axis = 1, inplace=True)\n",
        "dataframe.info()"
      ],
      "execution_count": 16,
      "outputs": [
        {
          "output_type": "stream",
          "name": "stdout",
          "text": [
            "<class 'pandas.core.frame.DataFrame'>\n",
            "RangeIndex: 18361 entries, 0 to 18360\n",
            "Data columns (total 24 columns):\n",
            " #   Column                Non-Null Count  Dtype \n",
            "---  ------                --------------  ----- \n",
            " 0   CustomerID            18361 non-null  int64 \n",
            " 1   Title                 101 non-null    object\n",
            " 2   FirstName             18361 non-null  object\n",
            " 3   MiddleName            10572 non-null  object\n",
            " 4   LastName              18361 non-null  object\n",
            " 5   Suffix                3 non-null      object\n",
            " 6   AddressLine1          18361 non-null  object\n",
            " 7   AddressLine2          311 non-null    object\n",
            " 8   City                  18361 non-null  object\n",
            " 9   StateProvinceName     18361 non-null  object\n",
            " 10  CountryRegionName     18361 non-null  object\n",
            " 11  PostalCode            18361 non-null  object\n",
            " 12  PhoneNumber           18361 non-null  object\n",
            " 13  Education             18361 non-null  object\n",
            " 14  Occupation            18361 non-null  object\n",
            " 15  Gender                18361 non-null  object\n",
            " 16  MaritalStatus         18361 non-null  object\n",
            " 17  HomeOwnerFlag         18361 non-null  int64 \n",
            " 18  NumberCarsOwned       18361 non-null  int64 \n",
            " 19  NumberChildrenAtHome  18361 non-null  int64 \n",
            " 20  TotalChildren         18361 non-null  int64 \n",
            " 21  YearlyIncome          18361 non-null  int64 \n",
            " 22  LastUpdated           18361 non-null  object\n",
            " 23  Age                   18361 non-null  int64 \n",
            "dtypes: int64(7), object(17)\n",
            "memory usage: 3.4+ MB\n"
          ]
        }
      ]
    },
    {
      "cell_type": "code",
      "metadata": {
        "colab": {
          "base_uri": "https://localhost:8080/",
          "height": 275
        },
        "id": "7lKxfFe-ZhnU",
        "outputId": "f19873c6-53e0-48fb-f2ec-5819079340e9"
      },
      "source": [
        "df1 = pd.DataFrame(data = dataframe)\n",
        "df2 = df1.loc[: , ['CustomerID' , 'Education' , 'Occupation' , 'Gender' , 'MaritalStatus' ,  'HomeOwnerFlag', 'NumberCarsOwned', 'NumberChildrenAtHome', 'YearlyIncome', 'Age']]\n",
        "df2.head()"
      ],
      "execution_count": null,
      "outputs": [
        {
          "output_type": "execute_result",
          "data": {
            "text/html": [
              "<div>\n",
              "<style scoped>\n",
              "    .dataframe tbody tr th:only-of-type {\n",
              "        vertical-align: middle;\n",
              "    }\n",
              "\n",
              "    .dataframe tbody tr th {\n",
              "        vertical-align: top;\n",
              "    }\n",
              "\n",
              "    .dataframe thead th {\n",
              "        text-align: right;\n",
              "    }\n",
              "</style>\n",
              "<table border=\"1\" class=\"dataframe\">\n",
              "  <thead>\n",
              "    <tr style=\"text-align: right;\">\n",
              "      <th></th>\n",
              "      <th>CustomerID</th>\n",
              "      <th>Education</th>\n",
              "      <th>Occupation</th>\n",
              "      <th>Gender</th>\n",
              "      <th>MaritalStatus</th>\n",
              "      <th>HomeOwnerFlag</th>\n",
              "      <th>NumberCarsOwned</th>\n",
              "      <th>NumberChildrenAtHome</th>\n",
              "      <th>YearlyIncome</th>\n",
              "      <th>Age</th>\n",
              "    </tr>\n",
              "  </thead>\n",
              "  <tbody>\n",
              "    <tr>\n",
              "      <th>0</th>\n",
              "      <td>21173</td>\n",
              "      <td>Bachelors</td>\n",
              "      <td>Clerical</td>\n",
              "      <td>M</td>\n",
              "      <td>M</td>\n",
              "      <td>1</td>\n",
              "      <td>3</td>\n",
              "      <td>0</td>\n",
              "      <td>81916</td>\n",
              "      <td>33</td>\n",
              "    </tr>\n",
              "    <tr>\n",
              "      <th>1</th>\n",
              "      <td>13249</td>\n",
              "      <td>Partial College</td>\n",
              "      <td>Clerical</td>\n",
              "      <td>M</td>\n",
              "      <td>M</td>\n",
              "      <td>1</td>\n",
              "      <td>2</td>\n",
              "      <td>1</td>\n",
              "      <td>81076</td>\n",
              "      <td>49</td>\n",
              "    </tr>\n",
              "    <tr>\n",
              "      <th>2</th>\n",
              "      <td>29350</td>\n",
              "      <td>Bachelors</td>\n",
              "      <td>Clerical</td>\n",
              "      <td>F</td>\n",
              "      <td>S</td>\n",
              "      <td>0</td>\n",
              "      <td>3</td>\n",
              "      <td>0</td>\n",
              "      <td>86387</td>\n",
              "      <td>35</td>\n",
              "    </tr>\n",
              "    <tr>\n",
              "      <th>3</th>\n",
              "      <td>13503</td>\n",
              "      <td>Partial College</td>\n",
              "      <td>Skilled Manual</td>\n",
              "      <td>M</td>\n",
              "      <td>M</td>\n",
              "      <td>1</td>\n",
              "      <td>2</td>\n",
              "      <td>1</td>\n",
              "      <td>61481</td>\n",
              "      <td>43</td>\n",
              "    </tr>\n",
              "    <tr>\n",
              "      <th>4</th>\n",
              "      <td>22803</td>\n",
              "      <td>Partial College</td>\n",
              "      <td>Skilled Manual</td>\n",
              "      <td>M</td>\n",
              "      <td>S</td>\n",
              "      <td>1</td>\n",
              "      <td>1</td>\n",
              "      <td>0</td>\n",
              "      <td>51804</td>\n",
              "      <td>46</td>\n",
              "    </tr>\n",
              "  </tbody>\n",
              "</table>\n",
              "</div>"
            ],
            "text/plain": [
              "   CustomerID        Education  ... YearlyIncome Age\n",
              "0       21173        Bachelors  ...        81916  33\n",
              "1       13249  Partial College  ...        81076  49\n",
              "2       29350        Bachelors  ...        86387  35\n",
              "3       13503  Partial College  ...        61481  43\n",
              "4       22803  Partial College  ...        51804  46\n",
              "\n",
              "[5 rows x 10 columns]"
            ]
          },
          "metadata": {},
          "execution_count": 20
        }
      ]
    },
    {
      "cell_type": "code",
      "metadata": {
        "colab": {
          "base_uri": "https://localhost:8080/"
        },
        "id": "ydfwMpGraJj_",
        "outputId": "54f1eb8c-765a-44fc-f34b-7d1b06097d60"
      },
      "source": [
        "df2.info()"
      ],
      "execution_count": null,
      "outputs": [
        {
          "output_type": "stream",
          "text": [
            "<class 'pandas.core.frame.DataFrame'>\n",
            "RangeIndex: 18361 entries, 0 to 18360\n",
            "Data columns (total 10 columns):\n",
            " #   Column                Non-Null Count  Dtype \n",
            "---  ------                --------------  ----- \n",
            " 0   CustomerID            18361 non-null  int64 \n",
            " 1   Education             18361 non-null  object\n",
            " 2   Occupation            18361 non-null  object\n",
            " 3   Gender                18361 non-null  object\n",
            " 4   MaritalStatus         18361 non-null  object\n",
            " 5   HomeOwnerFlag         18361 non-null  int64 \n",
            " 6   NumberCarsOwned       18361 non-null  int64 \n",
            " 7   NumberChildrenAtHome  18361 non-null  int64 \n",
            " 8   YearlyIncome          18361 non-null  int64 \n",
            " 9   Age                   18361 non-null  int64 \n",
            "dtypes: int64(6), object(4)\n",
            "memory usage: 1.4+ MB\n"
          ],
          "name": "stdout"
        }
      ]
    },
    {
      "cell_type": "code",
      "metadata": {
        "colab": {
          "base_uri": "https://localhost:8080/"
        },
        "id": "nYap7cPPtodo",
        "outputId": "84a2cd1d-461a-4ec6-d1ff-02bd0f4c9e26"
      },
      "source": [
        "df2['Education'].value_counts()"
      ],
      "execution_count": null,
      "outputs": [
        {
          "output_type": "execute_result",
          "data": {
            "text/plain": [
              "Bachelors              5325\n",
              "Partial College        5024\n",
              "High School            3274\n",
              "Graduate Degree        3163\n",
              "Partial High School    1575\n",
              "Name: Education, dtype: int64"
            ]
          },
          "metadata": {},
          "execution_count": 22
        }
      ]
    },
    {
      "cell_type": "code",
      "metadata": {
        "colab": {
          "base_uri": "https://localhost:8080/"
        },
        "id": "xshKsrY2ttru",
        "outputId": "08e2e7b2-df5c-41b2-865b-e52893d4e222"
      },
      "source": [
        "df2['Education'] = df2['Education'].map({'Partial High School' : 1, 'High School' : 2, 'Partial College' : 3, 'Bachelors' : 4, 'Graduate Degree' : 5})\n",
        "df2['Occupation'].value_counts()"
      ],
      "execution_count": null,
      "outputs": [
        {
          "output_type": "execute_result",
          "data": {
            "text/plain": [
              "Skilled Manual    6059\n",
              "Clerical          4464\n",
              "Manual            3377\n",
              "Management        2858\n",
              "Professional      1603\n",
              "Name: Occupation, dtype: int64"
            ]
          },
          "metadata": {},
          "execution_count": 23
        }
      ]
    },
    {
      "cell_type": "code",
      "metadata": {
        "id": "RUAocy1tuDkV"
      },
      "source": [
        "df2['Occupation'] = df2['Occupation'].map({'Manual' : 1, 'Skilled Manual' : 2, 'Clerical' : 3, 'Management' : 4, 'Professional' : 5})"
      ],
      "execution_count": null,
      "outputs": []
    },
    {
      "cell_type": "code",
      "metadata": {
        "colab": {
          "base_uri": "https://localhost:8080/",
          "height": 224
        },
        "id": "-w72qybSuNB_",
        "outputId": "94e3e6eb-204b-47f0-d556-e2d60a6b0213"
      },
      "source": [
        "def cardinal_columns(df):\n",
        "  df['Gender'] = df['Gender'].map({'M' : 1, 'F' : 0})\n",
        "  df['MaritalStatus'] = df['MaritalStatus'].map({'M' : 1, 'S' : 0})\n",
        "  return df\n",
        "df2 = cardinal_columns(df2)\n",
        "df2.head()"
      ],
      "execution_count": null,
      "outputs": [
        {
          "output_type": "execute_result",
          "data": {
            "text/html": [
              "<div>\n",
              "<style scoped>\n",
              "    .dataframe tbody tr th:only-of-type {\n",
              "        vertical-align: middle;\n",
              "    }\n",
              "\n",
              "    .dataframe tbody tr th {\n",
              "        vertical-align: top;\n",
              "    }\n",
              "\n",
              "    .dataframe thead th {\n",
              "        text-align: right;\n",
              "    }\n",
              "</style>\n",
              "<table border=\"1\" class=\"dataframe\">\n",
              "  <thead>\n",
              "    <tr style=\"text-align: right;\">\n",
              "      <th></th>\n",
              "      <th>CustomerID</th>\n",
              "      <th>Education</th>\n",
              "      <th>Occupation</th>\n",
              "      <th>Gender</th>\n",
              "      <th>MaritalStatus</th>\n",
              "      <th>HomeOwnerFlag</th>\n",
              "      <th>NumberCarsOwned</th>\n",
              "      <th>NumberChildrenAtHome</th>\n",
              "      <th>YearlyIncome</th>\n",
              "      <th>Age</th>\n",
              "    </tr>\n",
              "  </thead>\n",
              "  <tbody>\n",
              "    <tr>\n",
              "      <th>0</th>\n",
              "      <td>21173</td>\n",
              "      <td>4</td>\n",
              "      <td>3</td>\n",
              "      <td>1</td>\n",
              "      <td>1</td>\n",
              "      <td>1</td>\n",
              "      <td>3</td>\n",
              "      <td>0</td>\n",
              "      <td>81916</td>\n",
              "      <td>33</td>\n",
              "    </tr>\n",
              "    <tr>\n",
              "      <th>1</th>\n",
              "      <td>13249</td>\n",
              "      <td>3</td>\n",
              "      <td>3</td>\n",
              "      <td>1</td>\n",
              "      <td>1</td>\n",
              "      <td>1</td>\n",
              "      <td>2</td>\n",
              "      <td>1</td>\n",
              "      <td>81076</td>\n",
              "      <td>49</td>\n",
              "    </tr>\n",
              "    <tr>\n",
              "      <th>2</th>\n",
              "      <td>29350</td>\n",
              "      <td>4</td>\n",
              "      <td>3</td>\n",
              "      <td>0</td>\n",
              "      <td>0</td>\n",
              "      <td>0</td>\n",
              "      <td>3</td>\n",
              "      <td>0</td>\n",
              "      <td>86387</td>\n",
              "      <td>35</td>\n",
              "    </tr>\n",
              "    <tr>\n",
              "      <th>3</th>\n",
              "      <td>13503</td>\n",
              "      <td>3</td>\n",
              "      <td>2</td>\n",
              "      <td>1</td>\n",
              "      <td>1</td>\n",
              "      <td>1</td>\n",
              "      <td>2</td>\n",
              "      <td>1</td>\n",
              "      <td>61481</td>\n",
              "      <td>43</td>\n",
              "    </tr>\n",
              "    <tr>\n",
              "      <th>4</th>\n",
              "      <td>22803</td>\n",
              "      <td>3</td>\n",
              "      <td>2</td>\n",
              "      <td>1</td>\n",
              "      <td>0</td>\n",
              "      <td>1</td>\n",
              "      <td>1</td>\n",
              "      <td>0</td>\n",
              "      <td>51804</td>\n",
              "      <td>46</td>\n",
              "    </tr>\n",
              "  </tbody>\n",
              "</table>\n",
              "</div>"
            ],
            "text/plain": [
              "   CustomerID  Education  Occupation  ...  NumberChildrenAtHome  YearlyIncome  Age\n",
              "0       21173          4           3  ...                     0         81916   33\n",
              "1       13249          3           3  ...                     1         81076   49\n",
              "2       29350          4           3  ...                     0         86387   35\n",
              "3       13503          3           2  ...                     1         61481   43\n",
              "4       22803          3           2  ...                     0         51804   46\n",
              "\n",
              "[5 rows x 10 columns]"
            ]
          },
          "metadata": {},
          "execution_count": 25
        }
      ]
    },
    {
      "cell_type": "code",
      "metadata": {
        "colab": {
          "base_uri": "https://localhost:8080/"
        },
        "id": "NPUQvTkdwO15",
        "outputId": "e1dba72c-4328-494d-cb87-39fba53b8c27"
      },
      "source": [
        "df2.isnull().sum()"
      ],
      "execution_count": null,
      "outputs": [
        {
          "output_type": "execute_result",
          "data": {
            "text/plain": [
              "CustomerID              0\n",
              "Education               0\n",
              "Occupation              0\n",
              "Gender                  0\n",
              "MaritalStatus           0\n",
              "HomeOwnerFlag           0\n",
              "NumberCarsOwned         0\n",
              "NumberChildrenAtHome    0\n",
              "YearlyIncome            0\n",
              "Age                     0\n",
              "dtype: int64"
            ]
          },
          "metadata": {},
          "execution_count": 26
        }
      ]
    },
    {
      "cell_type": "code",
      "metadata": {
        "id": "87cdj21AwRd_"
      },
      "source": [
        "#from sklearn.preprocessing import MinMaxScaler\n",
        "from sklearn.preprocessing import MinMaxScaler"
      ],
      "execution_count": 17,
      "outputs": []
    },
    {
      "cell_type": "code",
      "metadata": {
        "id": "ClfjFdQewTsX"
      },
      "source": [
        "def scale_down(df):\n",
        "    scaler = MinMaxScaler()\n",
        "    scaled = scaler.fit_transform(df[['YearlyIncome', 'Age']])\n",
        "    df['YearlyIncomeScaled'] = scaled[:, 0] \n",
        "    df['AgeScaled'] = scaled[:, 1]\n",
        "    df.drop(['YearlyIncome', 'Age'], axis = 1, inplace = True)\n",
        "    return df"
      ],
      "execution_count": 18,
      "outputs": []
    },
    {
      "cell_type": "code",
      "metadata": {
        "id": "S5-ExueZwVHb"
      },
      "source": [
        "df2 = scale_down(df2)"
      ],
      "execution_count": null,
      "outputs": []
    },
    {
      "cell_type": "code",
      "metadata": {
        "id": "kKMGgjkBwWmw"
      },
      "source": [
        "from scipy.spatial import distance"
      ],
      "execution_count": null,
      "outputs": []
    },
    {
      "cell_type": "code",
      "metadata": {
        "colab": {
          "base_uri": "https://localhost:8080/"
        },
        "id": "8s-joPYuwY1Q",
        "outputId": "d4a2f3ef-ab47-4073-9031-ca67bf4ae976"
      },
      "source": [
        "distance.cosine(df2['Education'].values, df2['YearlyIncomeScaled'].values)"
      ],
      "execution_count": null,
      "outputs": [
        {
          "output_type": "execute_result",
          "data": {
            "text/plain": [
              "0.12448913241018533"
            ]
          },
          "metadata": {},
          "execution_count": 31
        }
      ]
    },
    {
      "cell_type": "code",
      "metadata": {
        "id": "RN3LSy8nwaWN",
        "colab": {
          "base_uri": "https://localhost:8080/"
        },
        "outputId": "f018c77c-59c8-416d-cfff-a50413f25299"
      },
      "source": [
        "distance.jaccard(df2['Education'].values, df2['YearlyIncomeScaled'].values)"
      ],
      "execution_count": null,
      "outputs": [
        {
          "output_type": "execute_result",
          "data": {
            "text/plain": [
              "1.0"
            ]
          },
          "metadata": {},
          "execution_count": 32
        }
      ]
    },
    {
      "cell_type": "code",
      "metadata": {
        "id": "bPo-E-26wcO4",
        "colab": {
          "base_uri": "https://localhost:8080/"
        },
        "outputId": "b052c544-31be-4b48-de49-2db8ef84f216"
      },
      "source": [
        "from scipy.stats import pearsonr\n",
        "pearsonr(df2['Education'].values, df2['YearlyIncomeScaled'].values)[0]"
      ],
      "execution_count": null,
      "outputs": [
        {
          "output_type": "execute_result",
          "data": {
            "text/plain": [
              "0.46766483550548943"
            ]
          },
          "metadata": {},
          "execution_count": 33
        }
      ]
    }
  ]
}
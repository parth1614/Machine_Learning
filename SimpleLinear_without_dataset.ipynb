{
  "nbformat": 4,
  "nbformat_minor": 5,
  "metadata": {
    "kernelspec": {
      "display_name": "Python 3",
      "language": "python",
      "name": "python3"
    },
    "language_info": {
      "codemirror_mode": {
        "name": "ipython",
        "version": 3
      },
      "file_extension": ".py",
      "mimetype": "text/x-python",
      "name": "python",
      "nbconvert_exporter": "python",
      "pygments_lexer": "ipython3",
      "version": "3.8.3"
    },
    "colab": {
      "name": "SimpleLinear_without_dataset.ipynb",
      "provenance": [],
      "include_colab_link": true
    }
  },
  "cells": [
    {
      "cell_type": "markdown",
      "metadata": {
        "id": "view-in-github",
        "colab_type": "text"
      },
      "source": [
        "<a href=\"https://colab.research.google.com/github/parth1614/Machine_Learning/blob/main/SimpleLinear_without_dataset.ipynb\" target=\"_parent\"><img src=\"https://colab.research.google.com/assets/colab-badge.svg\" alt=\"Open In Colab\"/></a>"
      ]
    },
    {
      "cell_type": "markdown",
      "metadata": {
        "id": "EKqcbSS6CTch"
      },
      "source": [
        "*"
      ],
      "id": "EKqcbSS6CTch"
    },
    {
      "cell_type": "code",
      "metadata": {
        "id": "RX9yEknQCTcw"
      },
      "source": [
        "import pandas as pd\n",
        "import numpy as np\n",
        "import os\n",
        "square_feet = [1400,1600,1700,1875,1100,1550,2350,2450,1425,1700]\n",
        "House_price = [245,312,279,308,199,219,405,324,319,255]\n",
        "\n",
        "df = pd.DataFrame(data = [square_feet, House_price])\n",
        "df1 = df.T\n",
        "df1.columns = ['SquareFeet', 'HousePrice']"
      ],
      "id": "RX9yEknQCTcw",
      "execution_count": null,
      "outputs": []
    },
    {
      "cell_type": "code",
      "metadata": {
        "id": "jyVQCXfuCTcy",
        "colab": {
          "base_uri": "https://localhost:8080/",
          "height": 204
        },
        "outputId": "3a12ff3d-1da5-4cf7-b038-1ceac628c0bd"
      },
      "source": [
        "df1.head()"
      ],
      "id": "jyVQCXfuCTcy",
      "execution_count": null,
      "outputs": [
        {
          "output_type": "execute_result",
          "data": {
            "text/html": [
              "<div>\n",
              "<style scoped>\n",
              "    .dataframe tbody tr th:only-of-type {\n",
              "        vertical-align: middle;\n",
              "    }\n",
              "\n",
              "    .dataframe tbody tr th {\n",
              "        vertical-align: top;\n",
              "    }\n",
              "\n",
              "    .dataframe thead th {\n",
              "        text-align: right;\n",
              "    }\n",
              "</style>\n",
              "<table border=\"1\" class=\"dataframe\">\n",
              "  <thead>\n",
              "    <tr style=\"text-align: right;\">\n",
              "      <th></th>\n",
              "      <th>SquareFeet</th>\n",
              "      <th>HousePrice</th>\n",
              "    </tr>\n",
              "  </thead>\n",
              "  <tbody>\n",
              "    <tr>\n",
              "      <th>0</th>\n",
              "      <td>1400</td>\n",
              "      <td>245</td>\n",
              "    </tr>\n",
              "    <tr>\n",
              "      <th>1</th>\n",
              "      <td>1600</td>\n",
              "      <td>312</td>\n",
              "    </tr>\n",
              "    <tr>\n",
              "      <th>2</th>\n",
              "      <td>1700</td>\n",
              "      <td>279</td>\n",
              "    </tr>\n",
              "    <tr>\n",
              "      <th>3</th>\n",
              "      <td>1875</td>\n",
              "      <td>308</td>\n",
              "    </tr>\n",
              "    <tr>\n",
              "      <th>4</th>\n",
              "      <td>1100</td>\n",
              "      <td>199</td>\n",
              "    </tr>\n",
              "  </tbody>\n",
              "</table>\n",
              "</div>"
            ],
            "text/plain": [
              "   SquareFeet  HousePrice\n",
              "0        1400         245\n",
              "1        1600         312\n",
              "2        1700         279\n",
              "3        1875         308\n",
              "4        1100         199"
            ]
          },
          "metadata": {},
          "execution_count": 5
        }
      ]
    },
    {
      "cell_type": "code",
      "metadata": {
        "id": "JDaEy0lrCTc1"
      },
      "source": [
        "from sklearn.preprocessing import StandardScaler\n",
        "def scale_down(df):\n",
        "    scaler = StandardScaler()\n",
        "    scaled = scaler.fit_transform(df)\n",
        "    df['SquareFeet'] = scaled[:, 1] \n",
        "    df['HousePrice'] = scaled[:, 1]\n",
        "    return df\n",
        "df1 = scale_down(df1)"
      ],
      "id": "JDaEy0lrCTc1",
      "execution_count": null,
      "outputs": []
    },
    {
      "cell_type": "code",
      "metadata": {
        "id": "mR4LuUM4CTc2"
      },
      "source": [
        "from sklearn.model_selection import train_test_split\n",
        "X = df1.iloc[:, :-1]\n",
        "y = df1.iloc[:, 1]\n",
        "X_train, X_test, y_train, y_test = train_test_split(X, y, test_size = 0.2, random_state = 0)"
      ],
      "id": "mR4LuUM4CTc2",
      "execution_count": null,
      "outputs": []
    },
    {
      "cell_type": "code",
      "metadata": {
        "id": "l1ZzQH_cCTc2",
        "outputId": "00f39705-1343-4db3-ad9d-612115c979a4"
      },
      "source": [
        "X_train"
      ],
      "id": "l1ZzQH_cCTc2",
      "execution_count": null,
      "outputs": [
        {
          "data": {
            "text/html": [
              "<div>\n",
              "<style scoped>\n",
              "    .dataframe tbody tr th:only-of-type {\n",
              "        vertical-align: middle;\n",
              "    }\n",
              "\n",
              "    .dataframe tbody tr th {\n",
              "        vertical-align: top;\n",
              "    }\n",
              "\n",
              "    .dataframe thead th {\n",
              "        text-align: right;\n",
              "    }\n",
              "</style>\n",
              "<table border=\"1\" class=\"dataframe\">\n",
              "  <thead>\n",
              "    <tr style=\"text-align: right;\">\n",
              "      <th></th>\n",
              "      <th>SquareFeet</th>\n",
              "    </tr>\n",
              "  </thead>\n",
              "  <tbody>\n",
              "    <tr>\n",
              "      <th>4</th>\n",
              "      <td>-1.532484</td>\n",
              "    </tr>\n",
              "    <tr>\n",
              "      <th>9</th>\n",
              "      <td>-0.551694</td>\n",
              "    </tr>\n",
              "    <tr>\n",
              "      <th>1</th>\n",
              "      <td>0.446610</td>\n",
              "    </tr>\n",
              "    <tr>\n",
              "      <th>6</th>\n",
              "      <td>2.075421</td>\n",
              "    </tr>\n",
              "    <tr>\n",
              "      <th>7</th>\n",
              "      <td>0.656779</td>\n",
              "    </tr>\n",
              "    <tr>\n",
              "      <th>3</th>\n",
              "      <td>0.376553</td>\n",
              "    </tr>\n",
              "    <tr>\n",
              "      <th>0</th>\n",
              "      <td>-0.726835</td>\n",
              "    </tr>\n",
              "    <tr>\n",
              "      <th>5</th>\n",
              "      <td>-1.182202</td>\n",
              "    </tr>\n",
              "  </tbody>\n",
              "</table>\n",
              "</div>"
            ],
            "text/plain": [
              "   SquareFeet\n",
              "4   -1.532484\n",
              "9   -0.551694\n",
              "1    0.446610\n",
              "6    2.075421\n",
              "7    0.656779\n",
              "3    0.376553\n",
              "0   -0.726835\n",
              "5   -1.182202"
            ]
          },
          "execution_count": 429,
          "metadata": {},
          "output_type": "execute_result"
        }
      ]
    },
    {
      "cell_type": "code",
      "metadata": {
        "id": "efe6UrYPCTc4",
        "outputId": "327b1a47-c589-4c78-bb99-097ad0723a5c"
      },
      "source": [
        "X_test"
      ],
      "id": "efe6UrYPCTc4",
      "execution_count": null,
      "outputs": [
        {
          "data": {
            "text/html": [
              "<div>\n",
              "<style scoped>\n",
              "    .dataframe tbody tr th:only-of-type {\n",
              "        vertical-align: middle;\n",
              "    }\n",
              "\n",
              "    .dataframe tbody tr th {\n",
              "        vertical-align: top;\n",
              "    }\n",
              "\n",
              "    .dataframe thead th {\n",
              "        text-align: right;\n",
              "    }\n",
              "</style>\n",
              "<table border=\"1\" class=\"dataframe\">\n",
              "  <thead>\n",
              "    <tr style=\"text-align: right;\">\n",
              "      <th></th>\n",
              "      <th>SquareFeet</th>\n",
              "    </tr>\n",
              "  </thead>\n",
              "  <tbody>\n",
              "    <tr>\n",
              "      <th>2</th>\n",
              "      <td>-0.131356</td>\n",
              "    </tr>\n",
              "    <tr>\n",
              "      <th>8</th>\n",
              "      <td>0.569208</td>\n",
              "    </tr>\n",
              "  </tbody>\n",
              "</table>\n",
              "</div>"
            ],
            "text/plain": [
              "   SquareFeet\n",
              "2   -0.131356\n",
              "8    0.569208"
            ]
          },
          "execution_count": 430,
          "metadata": {},
          "output_type": "execute_result"
        }
      ]
    },
    {
      "cell_type": "code",
      "metadata": {
        "id": "TCUoWQhfCTc6",
        "outputId": "675f1157-00e5-485d-da8c-a816e68e73d5"
      },
      "source": [
        "y_train"
      ],
      "id": "TCUoWQhfCTc6",
      "execution_count": null,
      "outputs": [
        {
          "data": {
            "text/plain": [
              "4   -1.532484\n",
              "9   -0.551694\n",
              "1    0.446610\n",
              "6    2.075421\n",
              "7    0.656779\n",
              "3    0.376553\n",
              "0   -0.726835\n",
              "5   -1.182202\n",
              "Name: HousePrice, dtype: float64"
            ]
          },
          "execution_count": 431,
          "metadata": {},
          "output_type": "execute_result"
        }
      ]
    },
    {
      "cell_type": "code",
      "metadata": {
        "id": "4_0mGfMeCTc7",
        "outputId": "46b01977-5a52-4373-f9e3-abe49f271528"
      },
      "source": [
        "y_test"
      ],
      "id": "4_0mGfMeCTc7",
      "execution_count": null,
      "outputs": [
        {
          "data": {
            "text/plain": [
              "2   -0.131356\n",
              "8    0.569208\n",
              "Name: HousePrice, dtype: float64"
            ]
          },
          "execution_count": 432,
          "metadata": {},
          "output_type": "execute_result"
        }
      ]
    },
    {
      "cell_type": "code",
      "metadata": {
        "id": "LrDd2ubnCTc9",
        "outputId": "7946cb23-e17a-4499-91de-393039e10cfe"
      },
      "source": [
        "X_train"
      ],
      "id": "LrDd2ubnCTc9",
      "execution_count": null,
      "outputs": [
        {
          "data": {
            "text/html": [
              "<div>\n",
              "<style scoped>\n",
              "    .dataframe tbody tr th:only-of-type {\n",
              "        vertical-align: middle;\n",
              "    }\n",
              "\n",
              "    .dataframe tbody tr th {\n",
              "        vertical-align: top;\n",
              "    }\n",
              "\n",
              "    .dataframe thead th {\n",
              "        text-align: right;\n",
              "    }\n",
              "</style>\n",
              "<table border=\"1\" class=\"dataframe\">\n",
              "  <thead>\n",
              "    <tr style=\"text-align: right;\">\n",
              "      <th></th>\n",
              "      <th>SquareFeet</th>\n",
              "    </tr>\n",
              "  </thead>\n",
              "  <tbody>\n",
              "    <tr>\n",
              "      <th>4</th>\n",
              "      <td>-1.532484</td>\n",
              "    </tr>\n",
              "    <tr>\n",
              "      <th>9</th>\n",
              "      <td>-0.551694</td>\n",
              "    </tr>\n",
              "    <tr>\n",
              "      <th>1</th>\n",
              "      <td>0.446610</td>\n",
              "    </tr>\n",
              "    <tr>\n",
              "      <th>6</th>\n",
              "      <td>2.075421</td>\n",
              "    </tr>\n",
              "    <tr>\n",
              "      <th>7</th>\n",
              "      <td>0.656779</td>\n",
              "    </tr>\n",
              "    <tr>\n",
              "      <th>3</th>\n",
              "      <td>0.376553</td>\n",
              "    </tr>\n",
              "    <tr>\n",
              "      <th>0</th>\n",
              "      <td>-0.726835</td>\n",
              "    </tr>\n",
              "    <tr>\n",
              "      <th>5</th>\n",
              "      <td>-1.182202</td>\n",
              "    </tr>\n",
              "  </tbody>\n",
              "</table>\n",
              "</div>"
            ],
            "text/plain": [
              "   SquareFeet\n",
              "4   -1.532484\n",
              "9   -0.551694\n",
              "1    0.446610\n",
              "6    2.075421\n",
              "7    0.656779\n",
              "3    0.376553\n",
              "0   -0.726835\n",
              "5   -1.182202"
            ]
          },
          "execution_count": 433,
          "metadata": {},
          "output_type": "execute_result"
        }
      ]
    },
    {
      "cell_type": "code",
      "metadata": {
        "id": "ZNgMr7fRCTc-",
        "outputId": "405b6bea-22fd-4561-e773-edddf03a6588"
      },
      "source": [
        "X_test"
      ],
      "id": "ZNgMr7fRCTc-",
      "execution_count": null,
      "outputs": [
        {
          "data": {
            "text/html": [
              "<div>\n",
              "<style scoped>\n",
              "    .dataframe tbody tr th:only-of-type {\n",
              "        vertical-align: middle;\n",
              "    }\n",
              "\n",
              "    .dataframe tbody tr th {\n",
              "        vertical-align: top;\n",
              "    }\n",
              "\n",
              "    .dataframe thead th {\n",
              "        text-align: right;\n",
              "    }\n",
              "</style>\n",
              "<table border=\"1\" class=\"dataframe\">\n",
              "  <thead>\n",
              "    <tr style=\"text-align: right;\">\n",
              "      <th></th>\n",
              "      <th>SquareFeet</th>\n",
              "    </tr>\n",
              "  </thead>\n",
              "  <tbody>\n",
              "    <tr>\n",
              "      <th>2</th>\n",
              "      <td>-0.131356</td>\n",
              "    </tr>\n",
              "    <tr>\n",
              "      <th>8</th>\n",
              "      <td>0.569208</td>\n",
              "    </tr>\n",
              "  </tbody>\n",
              "</table>\n",
              "</div>"
            ],
            "text/plain": [
              "   SquareFeet\n",
              "2   -0.131356\n",
              "8    0.569208"
            ]
          },
          "execution_count": 434,
          "metadata": {},
          "output_type": "execute_result"
        }
      ]
    },
    {
      "cell_type": "code",
      "metadata": {
        "id": "4WIv9hIyCTc_",
        "outputId": "f598b958-41ba-4df0-e235-af3d10e714ab"
      },
      "source": [
        "A = X_train.T.dot(X_train)\n",
        "B = np.linalg.inv(A)\n",
        "C = B.dot(X_train.T)\n",
        "beta = C.dot(y_train)\n",
        "print(beta)"
      ],
      "id": "4WIv9hIyCTc_",
      "execution_count": null,
      "outputs": [
        {
          "name": "stdout",
          "output_type": "stream",
          "text": [
            "[1.]\n"
          ]
        }
      ]
    },
    {
      "cell_type": "code",
      "metadata": {
        "id": "C4ZGju-SCTdA",
        "outputId": "4dc5718e-f015-411f-9506-83f998a01107"
      },
      "source": [
        "y_predict = X_test.dot(beta)\n",
        "print(y_predict) "
      ],
      "id": "C4ZGju-SCTdA",
      "execution_count": null,
      "outputs": [
        {
          "name": "stdout",
          "output_type": "stream",
          "text": [
            "2   -0.131356\n",
            "8    0.569208\n",
            "dtype: float64\n"
          ]
        }
      ]
    },
    {
      "cell_type": "code",
      "metadata": {
        "id": "kf5CNSdjCTdB",
        "outputId": "21ef99c3-a40a-46b5-d34b-970b3be50d76"
      },
      "source": [
        "error = y_test-y_predict\n",
        "square_error = np.power(error,2)\n",
        "sum_square_error = np.sum(square_error)\n",
        "mean_square_error = sum_square_error / len(y_predict)\n",
        "print(mean_square_error)\n",
        "rms_error = np.sqrt(mean_square_error)\n",
        "print(rms_error)\n",
        "y_mean = np.mean(y_test)\n",
        "total_sumofsquares = np.sum((y_test-y_mean)**2)\n",
        "print(1-sum_square_error/ total_sumofsquares)"
      ],
      "id": "kf5CNSdjCTdB",
      "execution_count": null,
      "outputs": [
        {
          "name": "stdout",
          "output_type": "stream",
          "text": [
            "6.548161810916602e-33\n",
            "8.092071311423672e-17\n",
            "1.0\n"
          ]
        }
      ]
    },
    {
      "cell_type": "markdown",
      "metadata": {
        "id": "ggWfpuEsCTdC"
      },
      "source": [
        "## **Question 2**"
      ],
      "id": "ggWfpuEsCTdC"
    },
    {
      "cell_type": "code",
      "metadata": {
        "id": "qWzE8TZJCTdD",
        "outputId": "a4c5e587-5c39-4383-ea51-25d1f9c50fde"
      },
      "source": [
        "df2 = pd.read_csv('C:\\\\Users\\\\kdubelite\\\\Desktop\\\\College\\\\Semester 5\\\\Machine Learning\\\\Lab\\\\Datasets\\\\Stock_Price.csv')\n",
        "df2.head()"
      ],
      "id": "qWzE8TZJCTdD",
      "execution_count": null,
      "outputs": [
        {
          "data": {
            "text/html": [
              "<div>\n",
              "<style scoped>\n",
              "    .dataframe tbody tr th:only-of-type {\n",
              "        vertical-align: middle;\n",
              "    }\n",
              "\n",
              "    .dataframe tbody tr th {\n",
              "        vertical-align: top;\n",
              "    }\n",
              "\n",
              "    .dataframe thead th {\n",
              "        text-align: right;\n",
              "    }\n",
              "</style>\n",
              "<table border=\"1\" class=\"dataframe\">\n",
              "  <thead>\n",
              "    <tr style=\"text-align: right;\">\n",
              "      <th></th>\n",
              "      <th>Year</th>\n",
              "      <th>Month</th>\n",
              "      <th>Interest_Rate</th>\n",
              "      <th>Unemployment_Rate</th>\n",
              "      <th>Stock_Index_Price</th>\n",
              "    </tr>\n",
              "  </thead>\n",
              "  <tbody>\n",
              "    <tr>\n",
              "      <th>0</th>\n",
              "      <td>2017</td>\n",
              "      <td>12</td>\n",
              "      <td>2.75</td>\n",
              "      <td>5.3</td>\n",
              "      <td>1464</td>\n",
              "    </tr>\n",
              "    <tr>\n",
              "      <th>1</th>\n",
              "      <td>2017</td>\n",
              "      <td>11</td>\n",
              "      <td>2.50</td>\n",
              "      <td>5.3</td>\n",
              "      <td>1394</td>\n",
              "    </tr>\n",
              "    <tr>\n",
              "      <th>2</th>\n",
              "      <td>2017</td>\n",
              "      <td>10</td>\n",
              "      <td>2.50</td>\n",
              "      <td>5.3</td>\n",
              "      <td>1357</td>\n",
              "    </tr>\n",
              "    <tr>\n",
              "      <th>3</th>\n",
              "      <td>2017</td>\n",
              "      <td>9</td>\n",
              "      <td>2.50</td>\n",
              "      <td>5.3</td>\n",
              "      <td>1293</td>\n",
              "    </tr>\n",
              "    <tr>\n",
              "      <th>4</th>\n",
              "      <td>2017</td>\n",
              "      <td>8</td>\n",
              "      <td>2.50</td>\n",
              "      <td>5.4</td>\n",
              "      <td>1256</td>\n",
              "    </tr>\n",
              "  </tbody>\n",
              "</table>\n",
              "</div>"
            ],
            "text/plain": [
              "   Year  Month  Interest_Rate  Unemployment_Rate  Stock_Index_Price\n",
              "0  2017     12           2.75                5.3               1464\n",
              "1  2017     11           2.50                5.3               1394\n",
              "2  2017     10           2.50                5.3               1357\n",
              "3  2017      9           2.50                5.3               1293\n",
              "4  2017      8           2.50                5.4               1256"
            ]
          },
          "execution_count": 439,
          "metadata": {},
          "output_type": "execute_result"
        }
      ]
    },
    {
      "cell_type": "code",
      "metadata": {
        "id": "FNumO5u_CTdE"
      },
      "source": [
        "df2['Year'] = df2['Year'].map({2017 : 1, 2016 : 2})"
      ],
      "id": "FNumO5u_CTdE",
      "execution_count": null,
      "outputs": []
    },
    {
      "cell_type": "code",
      "metadata": {
        "id": "u0X0ht8xCTdE"
      },
      "source": [
        "X1 = df2.iloc[:, :-1]\n",
        "y1 = df2.iloc[:,-1]"
      ],
      "id": "u0X0ht8xCTdE",
      "execution_count": null,
      "outputs": []
    },
    {
      "cell_type": "code",
      "metadata": {
        "id": "TDuwB4FtCTdF"
      },
      "source": [
        "from sklearn.model_selection import train_test_split\n",
        "X1_train, X1_test, y1_train, y1_test = train_test_split(X1, y1, test_size = 0.2, random_state = 0)"
      ],
      "id": "TDuwB4FtCTdF",
      "execution_count": null,
      "outputs": []
    },
    {
      "cell_type": "code",
      "metadata": {
        "id": "7040vdI2CTdG",
        "outputId": "08419ea2-3ce7-4df5-cec6-1c41c9c548f3"
      },
      "source": [
        "X1_train"
      ],
      "id": "7040vdI2CTdG",
      "execution_count": null,
      "outputs": [
        {
          "data": {
            "text/html": [
              "<div>\n",
              "<style scoped>\n",
              "    .dataframe tbody tr th:only-of-type {\n",
              "        vertical-align: middle;\n",
              "    }\n",
              "\n",
              "    .dataframe tbody tr th {\n",
              "        vertical-align: top;\n",
              "    }\n",
              "\n",
              "    .dataframe thead th {\n",
              "        text-align: right;\n",
              "    }\n",
              "</style>\n",
              "<table border=\"1\" class=\"dataframe\">\n",
              "  <thead>\n",
              "    <tr style=\"text-align: right;\">\n",
              "      <th></th>\n",
              "      <th>Year</th>\n",
              "      <th>Month</th>\n",
              "      <th>Interest_Rate</th>\n",
              "      <th>Unemployment_Rate</th>\n",
              "    </tr>\n",
              "  </thead>\n",
              "  <tbody>\n",
              "    <tr>\n",
              "      <th>1</th>\n",
              "      <td>1</td>\n",
              "      <td>11</td>\n",
              "      <td>2.50</td>\n",
              "      <td>5.3</td>\n",
              "    </tr>\n",
              "    <tr>\n",
              "      <th>13</th>\n",
              "      <td>2</td>\n",
              "      <td>11</td>\n",
              "      <td>1.75</td>\n",
              "      <td>5.9</td>\n",
              "    </tr>\n",
              "    <tr>\n",
              "      <th>23</th>\n",
              "      <td>2</td>\n",
              "      <td>1</td>\n",
              "      <td>1.75</td>\n",
              "      <td>6.1</td>\n",
              "    </tr>\n",
              "    <tr>\n",
              "      <th>16</th>\n",
              "      <td>2</td>\n",
              "      <td>8</td>\n",
              "      <td>1.75</td>\n",
              "      <td>6.2</td>\n",
              "    </tr>\n",
              "    <tr>\n",
              "      <th>8</th>\n",
              "      <td>1</td>\n",
              "      <td>4</td>\n",
              "      <td>2.25</td>\n",
              "      <td>5.5</td>\n",
              "    </tr>\n",
              "    <tr>\n",
              "      <th>6</th>\n",
              "      <td>1</td>\n",
              "      <td>6</td>\n",
              "      <td>2.50</td>\n",
              "      <td>5.5</td>\n",
              "    </tr>\n",
              "    <tr>\n",
              "      <th>17</th>\n",
              "      <td>2</td>\n",
              "      <td>7</td>\n",
              "      <td>1.75</td>\n",
              "      <td>6.1</td>\n",
              "    </tr>\n",
              "    <tr>\n",
              "      <th>4</th>\n",
              "      <td>1</td>\n",
              "      <td>8</td>\n",
              "      <td>2.50</td>\n",
              "      <td>5.4</td>\n",
              "    </tr>\n",
              "    <tr>\n",
              "      <th>2</th>\n",
              "      <td>1</td>\n",
              "      <td>10</td>\n",
              "      <td>2.50</td>\n",
              "      <td>5.3</td>\n",
              "    </tr>\n",
              "    <tr>\n",
              "      <th>5</th>\n",
              "      <td>1</td>\n",
              "      <td>7</td>\n",
              "      <td>2.50</td>\n",
              "      <td>5.6</td>\n",
              "    </tr>\n",
              "    <tr>\n",
              "      <th>18</th>\n",
              "      <td>2</td>\n",
              "      <td>6</td>\n",
              "      <td>1.75</td>\n",
              "      <td>6.1</td>\n",
              "    </tr>\n",
              "    <tr>\n",
              "      <th>9</th>\n",
              "      <td>1</td>\n",
              "      <td>3</td>\n",
              "      <td>2.25</td>\n",
              "      <td>5.6</td>\n",
              "    </tr>\n",
              "    <tr>\n",
              "      <th>7</th>\n",
              "      <td>1</td>\n",
              "      <td>5</td>\n",
              "      <td>2.25</td>\n",
              "      <td>5.5</td>\n",
              "    </tr>\n",
              "    <tr>\n",
              "      <th>19</th>\n",
              "      <td>2</td>\n",
              "      <td>5</td>\n",
              "      <td>1.75</td>\n",
              "      <td>6.1</td>\n",
              "    </tr>\n",
              "    <tr>\n",
              "      <th>3</th>\n",
              "      <td>1</td>\n",
              "      <td>9</td>\n",
              "      <td>2.50</td>\n",
              "      <td>5.3</td>\n",
              "    </tr>\n",
              "    <tr>\n",
              "      <th>0</th>\n",
              "      <td>1</td>\n",
              "      <td>12</td>\n",
              "      <td>2.75</td>\n",
              "      <td>5.3</td>\n",
              "    </tr>\n",
              "    <tr>\n",
              "      <th>21</th>\n",
              "      <td>2</td>\n",
              "      <td>3</td>\n",
              "      <td>1.75</td>\n",
              "      <td>6.2</td>\n",
              "    </tr>\n",
              "    <tr>\n",
              "      <th>15</th>\n",
              "      <td>2</td>\n",
              "      <td>9</td>\n",
              "      <td>1.75</td>\n",
              "      <td>6.1</td>\n",
              "    </tr>\n",
              "    <tr>\n",
              "      <th>12</th>\n",
              "      <td>2</td>\n",
              "      <td>12</td>\n",
              "      <td>2.00</td>\n",
              "      <td>6.0</td>\n",
              "    </tr>\n",
              "  </tbody>\n",
              "</table>\n",
              "</div>"
            ],
            "text/plain": [
              "    Year  Month  Interest_Rate  Unemployment_Rate\n",
              "1      1     11           2.50                5.3\n",
              "13     2     11           1.75                5.9\n",
              "23     2      1           1.75                6.1\n",
              "16     2      8           1.75                6.2\n",
              "8      1      4           2.25                5.5\n",
              "6      1      6           2.50                5.5\n",
              "17     2      7           1.75                6.1\n",
              "4      1      8           2.50                5.4\n",
              "2      1     10           2.50                5.3\n",
              "5      1      7           2.50                5.6\n",
              "18     2      6           1.75                6.1\n",
              "9      1      3           2.25                5.6\n",
              "7      1      5           2.25                5.5\n",
              "19     2      5           1.75                6.1\n",
              "3      1      9           2.50                5.3\n",
              "0      1     12           2.75                5.3\n",
              "21     2      3           1.75                6.2\n",
              "15     2      9           1.75                6.1\n",
              "12     2     12           2.00                6.0"
            ]
          },
          "execution_count": 443,
          "metadata": {},
          "output_type": "execute_result"
        }
      ]
    },
    {
      "cell_type": "code",
      "metadata": {
        "id": "_svmFs5yCTdG",
        "outputId": "b875a70d-66c6-4c6b-aa23-e57164597c79"
      },
      "source": [
        "X1_test"
      ],
      "id": "_svmFs5yCTdG",
      "execution_count": null,
      "outputs": [
        {
          "data": {
            "text/html": [
              "<div>\n",
              "<style scoped>\n",
              "    .dataframe tbody tr th:only-of-type {\n",
              "        vertical-align: middle;\n",
              "    }\n",
              "\n",
              "    .dataframe tbody tr th {\n",
              "        vertical-align: top;\n",
              "    }\n",
              "\n",
              "    .dataframe thead th {\n",
              "        text-align: right;\n",
              "    }\n",
              "</style>\n",
              "<table border=\"1\" class=\"dataframe\">\n",
              "  <thead>\n",
              "    <tr style=\"text-align: right;\">\n",
              "      <th></th>\n",
              "      <th>Year</th>\n",
              "      <th>Month</th>\n",
              "      <th>Interest_Rate</th>\n",
              "      <th>Unemployment_Rate</th>\n",
              "    </tr>\n",
              "  </thead>\n",
              "  <tbody>\n",
              "    <tr>\n",
              "      <th>11</th>\n",
              "      <td>1</td>\n",
              "      <td>1</td>\n",
              "      <td>2.00</td>\n",
              "      <td>5.9</td>\n",
              "    </tr>\n",
              "    <tr>\n",
              "      <th>10</th>\n",
              "      <td>1</td>\n",
              "      <td>2</td>\n",
              "      <td>2.00</td>\n",
              "      <td>5.7</td>\n",
              "    </tr>\n",
              "    <tr>\n",
              "      <th>22</th>\n",
              "      <td>2</td>\n",
              "      <td>2</td>\n",
              "      <td>1.75</td>\n",
              "      <td>6.2</td>\n",
              "    </tr>\n",
              "    <tr>\n",
              "      <th>14</th>\n",
              "      <td>2</td>\n",
              "      <td>10</td>\n",
              "      <td>1.75</td>\n",
              "      <td>5.8</td>\n",
              "    </tr>\n",
              "    <tr>\n",
              "      <th>20</th>\n",
              "      <td>2</td>\n",
              "      <td>4</td>\n",
              "      <td>1.75</td>\n",
              "      <td>5.9</td>\n",
              "    </tr>\n",
              "  </tbody>\n",
              "</table>\n",
              "</div>"
            ],
            "text/plain": [
              "    Year  Month  Interest_Rate  Unemployment_Rate\n",
              "11     1      1           2.00                5.9\n",
              "10     1      2           2.00                5.7\n",
              "22     2      2           1.75                6.2\n",
              "14     2     10           1.75                5.8\n",
              "20     2      4           1.75                5.9"
            ]
          },
          "execution_count": 444,
          "metadata": {},
          "output_type": "execute_result"
        }
      ]
    },
    {
      "cell_type": "code",
      "metadata": {
        "id": "DuB3iUqVCTdH",
        "outputId": "5a4f2a03-b7d7-4807-aaba-3778459b1c3b"
      },
      "source": [
        "y1_train"
      ],
      "id": "DuB3iUqVCTdH",
      "execution_count": null,
      "outputs": [
        {
          "data": {
            "text/plain": [
              "1     1394\n",
              "13     965\n",
              "23     719\n",
              "16     971\n",
              "8     1159\n",
              "6     1234\n",
              "17     949\n",
              "4     1256\n",
              "2     1357\n",
              "5     1254\n",
              "18     884\n",
              "9     1167\n",
              "7     1195\n",
              "19     866\n",
              "3     1293\n",
              "0     1464\n",
              "21     822\n",
              "15     958\n",
              "12    1047\n",
              "Name: Stock_Index_Price, dtype: int64"
            ]
          },
          "execution_count": 445,
          "metadata": {},
          "output_type": "execute_result"
        }
      ]
    },
    {
      "cell_type": "code",
      "metadata": {
        "id": "2y0-HOMNCTdI",
        "outputId": "0b33a486-1aab-49b9-ecb7-2cce4b1b9171"
      },
      "source": [
        "y1_test"
      ],
      "id": "2y0-HOMNCTdI",
      "execution_count": null,
      "outputs": [
        {
          "data": {
            "text/plain": [
              "11    1075\n",
              "10    1130\n",
              "22     704\n",
              "14     943\n",
              "20     876\n",
              "Name: Stock_Index_Price, dtype: int64"
            ]
          },
          "execution_count": 446,
          "metadata": {},
          "output_type": "execute_result"
        }
      ]
    },
    {
      "cell_type": "code",
      "metadata": {
        "id": "BM2OwASwCTdK",
        "outputId": "7ecc9472-8b16-442b-c30a-b35ee56f4c13"
      },
      "source": [
        "A1 = X1_train.T.dot(X1_train)\n",
        "B1 = np.linalg.inv(A1)\n",
        "C1 = B1.dot(X1_train.T)\n",
        "beta1 = C1.dot(y1_train)\n",
        "print(beta1)"
      ],
      "id": "BM2OwASwCTdK",
      "execution_count": null,
      "outputs": [
        {
          "name": "stdout",
          "output_type": "stream",
          "text": [
            "[-391.57353661   30.07859539  137.24396223  203.82829979]\n"
          ]
        }
      ]
    },
    {
      "cell_type": "code",
      "metadata": {
        "id": "IMuNKtjtCTdL",
        "outputId": "a4d3084b-b137-41d2-dad5-4e5368c685ba"
      },
      "source": [
        "y_predict1 = X1_test.dot(beta1)\n",
        "print(y_predict1) "
      ],
      "id": "IMuNKtjtCTdL",
      "execution_count": null,
      "outputs": [
        {
          "name": "stdout",
          "output_type": "stream",
          "text": [
            "11    1115.579952\n",
            "10    1104.892887\n",
            "22     780.922510\n",
            "14     940.019953\n",
            "20     779.931211\n",
            "dtype: float64\n"
          ]
        }
      ]
    },
    {
      "cell_type": "code",
      "metadata": {
        "id": "IbuZb1qICTdM",
        "outputId": "b2dd106d-da7a-4060-878b-067fa5df5d7c"
      },
      "source": [
        "error1 = y1_test-y_predict1\n",
        "square_error = np.power(error,2)\n",
        "sum_square_error = np.sum(square_error)\n",
        "mean_square_error = sum_square_error / len(y_predict1)\n",
        "print(\"Mean Square Error = \" + mean_square_error)\n",
        "rms_error = np.sqrt(mean_square_error)\n",
        "print(\"Root Mean Square Error = \" +rms_error)\n",
        "y_mean1 = np.mean(y1_test)\n",
        "total_sumofsquares = np.sum((y1_test-y_mean1)**2)\n",
        "print(1-sum_square_error/ total_sumofsquares)"
      ],
      "id": "IbuZb1qICTdM",
      "execution_count": null,
      "outputs": [
        {
          "name": "stdout",
          "output_type": "stream",
          "text": [
            "2.6192647243666407e-33\n",
            "5.1178752665209035e-17\n",
            "1.0\n"
          ]
        }
      ]
    }
  ]
}